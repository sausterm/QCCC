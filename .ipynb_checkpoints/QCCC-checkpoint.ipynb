{
 "cells": [
  {
   "cell_type": "code",
   "execution_count": 1,
   "id": "2ac15ac2-47ad-43dc-96b5-dc14d3c4c998",
   "metadata": {
    "collapsed": true,
    "jupyter": {
     "outputs_hidden": true
    },
    "tags": []
   },
   "outputs": [
    {
     "name": "stdout",
     "output_type": "stream",
     "text": [
      "Requirement already satisfied: qulacs in /home/ec2-user/anaconda3/envs/Braket/lib/python3.10/site-packages (0.6.2)\n",
      "Requirement already satisfied: numpy in /home/ec2-user/anaconda3/envs/Braket/lib/python3.10/site-packages (from qulacs) (1.23.5)\n",
      "Requirement already satisfied: scipy in /home/ec2-user/anaconda3/envs/Braket/lib/python3.10/site-packages (from qulacs) (1.11.3)\n",
      "Note: you may need to restart the kernel to use updated packages.\n"
     ]
    }
   ],
   "source": [
    "pip install qulacs"
   ]
  },
  {
   "cell_type": "code",
   "execution_count": 2,
   "id": "3d594404-f969-45b1-bcb5-305511d42803",
   "metadata": {
    "collapsed": true,
    "jupyter": {
     "outputs_hidden": true
    },
    "tags": []
   },
   "outputs": [
    {
     "name": "stdout",
     "output_type": "stream",
     "text": [
      "Requirement already satisfied: matplotlib in /home/ec2-user/anaconda3/envs/Braket/lib/python3.10/site-packages (3.8.0)\n",
      "Requirement already satisfied: seaborn in /home/ec2-user/anaconda3/envs/Braket/lib/python3.10/site-packages (0.13.0)\n",
      "Requirement already satisfied: contourpy>=1.0.1 in /home/ec2-user/anaconda3/envs/Braket/lib/python3.10/site-packages (from matplotlib) (1.1.1)\n",
      "Requirement already satisfied: cycler>=0.10 in /home/ec2-user/anaconda3/envs/Braket/lib/python3.10/site-packages (from matplotlib) (0.12.1)\n",
      "Requirement already satisfied: fonttools>=4.22.0 in /home/ec2-user/anaconda3/envs/Braket/lib/python3.10/site-packages (from matplotlib) (4.43.1)\n",
      "Requirement already satisfied: kiwisolver>=1.0.1 in /home/ec2-user/anaconda3/envs/Braket/lib/python3.10/site-packages (from matplotlib) (1.4.5)\n",
      "Requirement already satisfied: numpy<2,>=1.21 in /home/ec2-user/anaconda3/envs/Braket/lib/python3.10/site-packages (from matplotlib) (1.23.5)\n",
      "Requirement already satisfied: packaging>=20.0 in /home/ec2-user/anaconda3/envs/Braket/lib/python3.10/site-packages (from matplotlib) (23.2)\n",
      "Requirement already satisfied: pillow>=6.2.0 in /home/ec2-user/anaconda3/envs/Braket/lib/python3.10/site-packages (from matplotlib) (10.1.0)\n",
      "Requirement already satisfied: pyparsing>=2.3.1 in /home/ec2-user/anaconda3/envs/Braket/lib/python3.10/site-packages (from matplotlib) (3.1.1)\n",
      "Requirement already satisfied: python-dateutil>=2.7 in /home/ec2-user/anaconda3/envs/Braket/lib/python3.10/site-packages (from matplotlib) (2.8.2)\n",
      "Requirement already satisfied: pandas>=1.2 in /home/ec2-user/anaconda3/envs/Braket/lib/python3.10/site-packages (from seaborn) (2.1.1)\n",
      "Requirement already satisfied: pytz>=2020.1 in /home/ec2-user/anaconda3/envs/Braket/lib/python3.10/site-packages (from pandas>=1.2->seaborn) (2023.3.post1)\n",
      "Requirement already satisfied: tzdata>=2022.1 in /home/ec2-user/anaconda3/envs/Braket/lib/python3.10/site-packages (from pandas>=1.2->seaborn) (2023.3)\n",
      "Requirement already satisfied: six>=1.5 in /home/ec2-user/anaconda3/envs/Braket/lib/python3.10/site-packages (from python-dateutil>=2.7->matplotlib) (1.16.0)\n",
      "Note: you may need to restart the kernel to use updated packages.\n"
     ]
    }
   ],
   "source": [
    "pip install --upgrade matplotlib seaborn"
   ]
  },
  {
   "cell_type": "code",
   "execution_count": 4,
   "id": "facaca10-e6d3-43eb-87d5-a3bbe50d4124",
   "metadata": {
    "tags": []
   },
   "outputs": [],
   "source": [
    "from pennylane import qaoa\n",
    "from pennylane import numpy as np\n",
    "import pennylane as qml\n",
    "import networkx as nx\n",
    "from collections import Counter\n",
    "import matplotlib.pyplot as plt\n",
    "plt.style.use('seaborn-v0_8-notebook')"
   ]
  },
  {
   "cell_type": "code",
   "execution_count": null,
   "id": "90a8edc3-e80b-47c2-b965-e1a1a7ea6d96",
   "metadata": {},
   "outputs": [],
   "source": [
    "import numpy as np\n",
    "import pennylane as qml\n",
    "from collections import Counter\n",
    "import matplotlib.pyplot as plt"
   ]
  },
  {
   "cell_type": "code",
   "execution_count": 95,
   "id": "7f62725b-7ead-4020-a6eb-776b7ac3a817",
   "metadata": {
    "tags": []
   },
   "outputs": [],
   "source": [
    "\n",
    "# 1. Define Global Parameters\n",
    "N = 4  # Number of stocks\n",
    "w = 0.5  # Weighting factor\n",
    "depth = 4  # Depth of the QAOA circuit\n",
    "wires = range(N)\n",
    "\n",
    "# Expected returns, variances, and covariances\n",
    "r = [0.05, 0.6, 0.7, 0.1]  # Expected returns for stocks\n",
    "cov_matrix = np.array([  # Covariance matrix\n",
    "    [0.3, 0.01, 0.01, 0.02],\n",
    "    [0.01, 0.05, 0.01, 0.01],\n",
    "    [0.01, 0.01, 0.05, 0.01],\n",
    "    [0.02, 0.01, 0.01, 0.3]\n",
    "])\n",
    "A = (1-w) * 2 * cov_matrix - w * np.diag(r)\n"
   ]
  },
  {
   "cell_type": "code",
   "execution_count": 96,
   "id": "4af6fcb2-f7ab-4481-aab8-0e44f9f9381a",
   "metadata": {
    "tags": []
   },
   "outputs": [],
   "source": [
    "# 2. Hamiltonian Construction\n",
    "\n",
    "def cost_hamiltonian():\n",
    "    \"\"\"Constructs the cost Hamiltonian based on the QUBO matrix A.\"\"\"\n",
    "    n = len(A)\n",
    "    H = qml.Hamiltonian([], [])\n",
    "\n",
    "    for i in range(n):\n",
    "        for j in range(n):\n",
    "            if A[i, j]:\n",
    "                ops = [qml.Identity(w) for w in range(n)]\n",
    "                ops[j] = qml.PauliZ(j)\n",
    "                tensor_op = qml.operation.Tensor(*ops)\n",
    "                H += qml.Hamiltonian([A[i, j]], [tensor_op])\n",
    "\n",
    "    return H\n",
    "\n",
    "def mixer_hamiltonian():\n",
    "    \"\"\"Constructs the mixer Hamiltonian.\"\"\"\n",
    "    coeffs = [1 for _ in range(N)]\n",
    "    obs = [qml.PauliX(i) for i in range(N)]\n",
    "    return qml.Hamiltonian(coeffs, obs)\n",
    "\n",
    "cost_h = cost_hamiltonian()\n",
    "mixer_h = mixer_hamiltonian()"
   ]
  },
  {
   "cell_type": "code",
   "execution_count": 97,
   "id": "2b78b390-5ad7-47c1-9555-192912b47cfc",
   "metadata": {
    "tags": []
   },
   "outputs": [],
   "source": [
    "# 3. QAOA Circuit\n",
    "def qaoa_layer(gamma, alpha):\n",
    "    \"\"\"One layer of QAOA.\"\"\"\n",
    "    qml.qaoa.cost_layer(gamma, cost_h)\n",
    "    qml.qaoa.mixer_layer(alpha, mixer_h)\n",
    "\n",
    "def cost_circuit(params, **kwargs):\n",
    "    \"\"\"QAOA cost circuit.\"\"\"\n",
    "    for w in wires:\n",
    "        qml.Hadamard(wires=w)\n",
    "    qml.layer(qaoa_layer, depth, params[0], params[1])\n",
    "    return qml.expval(cost_h)\n",
    "\n",
    "dev = qml.device(\"qulacs.simulator\", wires=N)\n",
    "@qml.qnode(dev)\n",
    "def cost_function(params):\n",
    "    \"\"\"QNode for the cost function.\"\"\"\n",
    "    return cost_circuit(params)\n"
   ]
  },
  {
   "cell_type": "code",
   "execution_count": 98,
   "id": "9fd5357b-4437-49cb-bb88-059a5439be55",
   "metadata": {
    "tags": []
   },
   "outputs": [
    {
     "name": "stdout",
     "output_type": "stream",
     "text": [
      "0/25\n",
      "5/25\n",
      "10/25\n",
      "15/25\n",
      "20/25\n",
      "24/25\n",
      "Optimal Parameters:\n",
      "[[0.66099294 0.18660211 0.45173964 2.88592698]\n",
      " [1.81159854 0.32458426 0.06673865 2.57375022]]\n"
     ]
    }
   ],
   "source": [
    "\n",
    "# 4. Optimization Loop\n",
    "initial_gammas = np.random.uniform(0, 2 * np.pi, depth)\n",
    "initial_betas = np.random.uniform(0, np.pi, depth)\n",
    "params = np.array([initial_gammas, initial_betas], requires_grad=True)\n",
    "\n",
    "optimizer = qml.GradientDescentOptimizer()\n",
    "steps = 25\n",
    "for i in range(steps):\n",
    "    if i%5==0:\n",
    "        print(f\"{i}/{steps}\")\n",
    "    params = optimizer.step(cost_function, params)\n",
    "    \n",
    "print(f\"{i}/{steps}\")\n",
    "print(f'Optimal Parameters:\\n{params}')\n"
   ]
  },
  {
   "cell_type": "code",
   "execution_count": 99,
   "id": "48a33990-138e-4016-804f-b05f7c88cb57",
   "metadata": {
    "tags": []
   },
   "outputs": [
    {
     "data": {
      "image/png": "[encoded data removed]",
      "text/plain": [
       "<Figure size 800x550 with 1 Axes>"
      ]
     },
     "metadata": {},
     "output_type": "display_data"
    }
   ],
   "source": [
    "\n",
    "# 5. Probability Distribution Visualization\n",
    "dev = qml.device(\"default.qubit\", wires=N)\n",
    "@qml.qnode(dev)\n",
    "def probability_circuit(gamma, alpha):\n",
    "    \"\"\"QNode for the probability distribution.\"\"\"\n",
    "    for w in wires:\n",
    "        qml.Hadamard(wires=w)\n",
    "    qml.layer(qaoa_layer, depth, gamma, alpha)\n",
    "    return qml.probs(wires=wires)\n",
    "\n",
    "gamma_vals, alpha_vals = params\n",
    "probs = probability_circuit(gamma_vals, alpha_vals)\n",
    "plt.bar(range(2 ** N), probs)\n",
    "plt.show()"
   ]
  },
  {
   "cell_type": "code",
   "execution_count": 100,
   "id": "5c976726-9002-409f-8ba3-d20a63ff3649",
   "metadata": {
    "tags": []
   },
   "outputs": [
    {
     "data": {
      "text/plain": [
       "'0110'"
      ]
     },
     "execution_count": 100,
     "metadata": {},
     "output_type": "execute_result"
    }
   ],
   "source": [
    "\n",
    "# 6. Sampling\n",
    "dev = qml.device(\"default.qubit\", wires=N, shots=1000)\n",
    "def sampling_circuit(params, **kwargs):\n",
    "    \"\"\"QNode for sampling from the circuit.\"\"\"\n",
    "    for w in wires:\n",
    "        qml.Hadamard(wires=w)\n",
    "    qml.layer(qaoa_layer, depth, params[0], params[1])\n",
    "    return [qml.sample(qml.PauliZ(w)) for w in wires]\n",
    "\n",
    "@qml.qnode(dev)\n",
    "def sample_function(params):\n",
    "    \"\"\"Sample from the optimized QAOA circuit.\"\"\"\n",
    "    return sampling_circuit(params)\n",
    "\n",
    "optimal_params = params\n",
    "\n",
    "samples_array = np.array(sample_function(optimal_params))\n",
    "samples_transposed = samples_array.T\n",
    "#  Convert -1 to 0 to get the bitstrings\n",
    "bitstrings = np.where(samples_transposed == -1, 0, samples_transposed)\n",
    "\n",
    "# Convert to string for easy counting\n",
    "string_bits = [''.join(map(str, bitstring)) for bitstring in bitstrings]\n",
    "\n",
    "# Count occurrences\n",
    "bitstring_counts = Counter(string_bits)\n",
    "\n",
    "# Get the most common bitstring\n",
    "optimal_bitstring = bitstring_counts.most_common(1)[0][0]\n",
    "optimal_bitstring\n"
   ]
  },
  {
   "cell_type": "code",
   "execution_count": null,
   "id": "f00a71bf-000f-44fd-bb0d-46689f7339e8",
   "metadata": {},
   "outputs": [],
   "source": []
  },
  {
   "cell_type": "code",
   "execution_count": null,
   "id": "ac5d3289-7031-4bd5-87ee-dee2ec53e60d",
   "metadata": {},
   "outputs": [],
   "source": []
  }
 ],
 "metadata": {
  "kernelspec": {
   "display_name": "conda_braket",
   "language": "python",
   "name": "conda_braket"
  },
  "language_info": {
   "codemirror_mode": {
    "name": "ipython",
    "version": 3
   },
   "file_extension": ".py",
   "mimetype": "text/x-python",
   "name": "python",
   "nbconvert_exporter": "python",
   "pygments_lexer": "ipython3",
   "version": "3.10.12"
  }
 },
 "nbformat": 4,
 "nbformat_minor": 5
}
