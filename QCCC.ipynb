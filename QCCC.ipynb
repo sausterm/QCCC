{
 "cells": [
  {
   "cell_type": "code",
   "execution_count": 1,
   "id": "2ac15ac2-47ad-43dc-96b5-dc14d3c4c998",
   "metadata": {
    "tags": []
   },
   "outputs": [
    {
     "name": "stdout",
     "output_type": "stream",
     "text": [
      "Requirement already satisfied: qulacs in /home/ec2-user/anaconda3/envs/Braket/lib/python3.10/site-packages (0.6.2)\n",
      "Requirement already satisfied: numpy in /home/ec2-user/anaconda3/envs/Braket/lib/python3.10/site-packages (from qulacs) (1.23.5)\n",
      "Requirement already satisfied: scipy in /home/ec2-user/anaconda3/envs/Braket/lib/python3.10/site-packages (from qulacs) (1.11.3)\n",
      "Note: you may need to restart the kernel to use updated packages.\n"
     ]
    }
   ],
   "source": [
    "pip install qulacs"
   ]
  },
  {
   "cell_type": "code",
   "execution_count": 2,
   "id": "3d594404-f969-45b1-bcb5-305511d42803",
   "metadata": {
    "tags": []
   },
   "outputs": [
    {
     "name": "stdout",
     "output_type": "stream",
     "text": [
      "Requirement already satisfied: matplotlib in /home/ec2-user/anaconda3/envs/Braket/lib/python3.10/site-packages (3.8.0)\n",
      "Requirement already satisfied: seaborn in /home/ec2-user/anaconda3/envs/Braket/lib/python3.10/site-packages (0.13.0)\n",
      "Requirement already satisfied: contourpy>=1.0.1 in /home/ec2-user/anaconda3/envs/Braket/lib/python3.10/site-packages (from matplotlib) (1.1.1)\n",
      "Requirement already satisfied: cycler>=0.10 in /home/ec2-user/anaconda3/envs/Braket/lib/python3.10/site-packages (from matplotlib) (0.12.1)\n",
      "Requirement already satisfied: fonttools>=4.22.0 in /home/ec2-user/anaconda3/envs/Braket/lib/python3.10/site-packages (from matplotlib) (4.43.1)\n",
      "Requirement already satisfied: kiwisolver>=1.0.1 in /home/ec2-user/anaconda3/envs/Braket/lib/python3.10/site-packages (from matplotlib) (1.4.5)\n",
      "Requirement already satisfied: numpy<2,>=1.21 in /home/ec2-user/anaconda3/envs/Braket/lib/python3.10/site-packages (from matplotlib) (1.23.5)\n",
      "Requirement already satisfied: packaging>=20.0 in /home/ec2-user/anaconda3/envs/Braket/lib/python3.10/site-packages (from matplotlib) (23.2)\n",
      "Requirement already satisfied: pillow>=6.2.0 in /home/ec2-user/anaconda3/envs/Braket/lib/python3.10/site-packages (from matplotlib) (10.1.0)\n",
      "Requirement already satisfied: pyparsing>=2.3.1 in /home/ec2-user/anaconda3/envs/Braket/lib/python3.10/site-packages (from matplotlib) (3.1.1)\n",
      "Requirement already satisfied: python-dateutil>=2.7 in /home/ec2-user/anaconda3/envs/Braket/lib/python3.10/site-packages (from matplotlib) (2.8.2)\n",
      "Requirement already satisfied: pandas>=1.2 in /home/ec2-user/anaconda3/envs/Braket/lib/python3.10/site-packages (from seaborn) (2.1.1)\n",
      "Requirement already satisfied: pytz>=2020.1 in /home/ec2-user/anaconda3/envs/Braket/lib/python3.10/site-packages (from pandas>=1.2->seaborn) (2023.3.post1)\n",
      "Requirement already satisfied: tzdata>=2022.1 in /home/ec2-user/anaconda3/envs/Braket/lib/python3.10/site-packages (from pandas>=1.2->seaborn) (2023.3)\n",
      "Requirement already satisfied: six>=1.5 in /home/ec2-user/anaconda3/envs/Braket/lib/python3.10/site-packages (from python-dateutil>=2.7->matplotlib) (1.16.0)\n",
      "Note: you may need to restart the kernel to use updated packages.\n"
     ]
    }
   ],
   "source": [
    "pip install --upgrade matplotlib seaborn"
   ]
  },
  {
   "cell_type": "code",
   "execution_count": 3,
   "id": "ca58339b-6c2b-4939-8210-678c5ee16a18",
   "metadata": {
    "tags": []
   },
   "outputs": [
    {
     "name": "stdout",
     "output_type": "stream",
     "text": [
      "Requirement already satisfied: simanneal in /home/ec2-user/anaconda3/envs/Braket/lib/python3.10/site-packages (0.5.0)\n",
      "Note: you may need to restart the kernel to use updated packages.\n"
     ]
    }
   ],
   "source": [
    "pip install simanneal"
   ]
  },
  {
   "cell_type": "code",
   "execution_count": 28,
   "id": "facaca10-e6d3-43eb-87d5-a3bbe50d4124",
   "metadata": {
    "tags": []
   },
   "outputs": [
    {
     "ename": "ValueError",
     "evalue": "Device ARN is not a valid format: us-east-1. For valid Braket ARNs, see 'https://docs.aws.amazon.com/braket/latest/developerguide/braket-devices.html'",
     "output_type": "error",
     "traceback": [
      "\u001b[0;31m---------------------------------------------------------------------------\u001b[0m",
      "\u001b[0;31mIndexError\u001b[0m                                Traceback (most recent call last)",
      "File \u001b[0;32m~/anaconda3/envs/Braket/lib/python3.10/site-packages/braket/aws/aws_device.py:674\u001b[0m, in \u001b[0;36mAwsDevice.get_device_region\u001b[0;34m(device_arn)\u001b[0m\n\u001b[1;32m    673\u001b[0m \u001b[38;5;28;01mtry\u001b[39;00m:\n\u001b[0;32m--> 674\u001b[0m     \u001b[38;5;28;01mreturn\u001b[39;00m \u001b[43mdevice_arn\u001b[49m\u001b[38;5;241;43m.\u001b[39;49m\u001b[43msplit\u001b[49m\u001b[43m(\u001b[49m\u001b[38;5;124;43m\"\u001b[39;49m\u001b[38;5;124;43m:\u001b[39;49m\u001b[38;5;124;43m\"\u001b[39;49m\u001b[43m)\u001b[49m\u001b[43m[\u001b[49m\u001b[38;5;241;43m3\u001b[39;49m\u001b[43m]\u001b[49m\n\u001b[1;32m    675\u001b[0m \u001b[38;5;28;01mexcept\u001b[39;00m \u001b[38;5;167;01mIndexError\u001b[39;00m:\n",
      "\u001b[0;31mIndexError\u001b[0m: list index out of range",
      "\nDuring handling of the above exception, another exception occurred:\n",
      "\u001b[0;31mValueError\u001b[0m                                Traceback (most recent call last)",
      "Cell \u001b[0;32mIn[28], line 18\u001b[0m\n\u001b[1;32m     15\u001b[0m \u001b[38;5;28;01mfrom\u001b[39;00m \u001b[38;5;21;01mbraket\u001b[39;00m\u001b[38;5;21;01m.\u001b[39;00m\u001b[38;5;21;01mdevices\u001b[39;00m \u001b[38;5;28;01mimport\u001b[39;00m LocalSimulator\n\u001b[1;32m     17\u001b[0m \u001b[38;5;66;03m# Set up AWS session (you may need to specify your region)\u001b[39;00m\n\u001b[0;32m---> 18\u001b[0m aws_session \u001b[38;5;241m=\u001b[39m \u001b[43mAwsDevice\u001b[49m\u001b[43m(\u001b[49m\u001b[38;5;124;43m\"\u001b[39;49m\u001b[38;5;124;43mus-east-1\u001b[39;49m\u001b[38;5;124;43m\"\u001b[39;49m\u001b[43m)\u001b[49m\n\u001b[1;32m     20\u001b[0m \u001b[38;5;66;03m# Specify the desired quantum hardware\u001b[39;00m\n\u001b[1;32m     21\u001b[0m device \u001b[38;5;241m=\u001b[39m AwsDevice(\u001b[38;5;124m\"\u001b[39m\u001b[38;5;124m\"\u001b[39m)\n",
      "File \u001b[0;32m~/anaconda3/envs/Braket/lib/python3.10/site-packages/braket/aws/aws_device.py:104\u001b[0m, in \u001b[0;36mAwsDevice.__init__\u001b[0;34m(self, arn, aws_session)\u001b[0m\n\u001b[1;32m    102\u001b[0m \u001b[38;5;28mself\u001b[39m\u001b[38;5;241m.\u001b[39m_poll_interval_seconds \u001b[38;5;241m=\u001b[39m \u001b[38;5;28;01mNone\u001b[39;00m\n\u001b[1;32m    103\u001b[0m \u001b[38;5;28mself\u001b[39m\u001b[38;5;241m.\u001b[39m_type \u001b[38;5;241m=\u001b[39m \u001b[38;5;28;01mNone\u001b[39;00m\n\u001b[0;32m--> 104\u001b[0m \u001b[38;5;28mself\u001b[39m\u001b[38;5;241m.\u001b[39m_aws_session \u001b[38;5;241m=\u001b[39m \u001b[38;5;28;43mself\u001b[39;49m\u001b[38;5;241;43m.\u001b[39;49m\u001b[43m_get_session_and_initialize\u001b[49m\u001b[43m(\u001b[49m\u001b[43maws_session\u001b[49m\u001b[43m \u001b[49m\u001b[38;5;129;43;01mor\u001b[39;49;00m\u001b[43m \u001b[49m\u001b[43mAwsSession\u001b[49m\u001b[43m(\u001b[49m\u001b[43m)\u001b[49m\u001b[43m)\u001b[49m\n\u001b[1;32m    105\u001b[0m \u001b[38;5;28mself\u001b[39m\u001b[38;5;241m.\u001b[39m_ports \u001b[38;5;241m=\u001b[39m \u001b[38;5;28;01mNone\u001b[39;00m\n\u001b[1;32m    106\u001b[0m \u001b[38;5;28mself\u001b[39m\u001b[38;5;241m.\u001b[39m_frames \u001b[38;5;241m=\u001b[39m \u001b[38;5;28;01mNone\u001b[39;00m\n",
      "File \u001b[0;32m~/anaconda3/envs/Braket/lib/python3.10/site-packages/braket/aws/aws_device.py:304\u001b[0m, in \u001b[0;36mAwsDevice._get_session_and_initialize\u001b[0;34m(self, session)\u001b[0m\n\u001b[1;32m    303\u001b[0m \u001b[38;5;28;01mdef\u001b[39;00m \u001b[38;5;21m_get_session_and_initialize\u001b[39m(\u001b[38;5;28mself\u001b[39m, session: AwsSession) \u001b[38;5;241m-\u001b[39m\u001b[38;5;241m>\u001b[39m AwsSession:\n\u001b[0;32m--> 304\u001b[0m     device_region \u001b[38;5;241m=\u001b[39m \u001b[43mAwsDevice\u001b[49m\u001b[38;5;241;43m.\u001b[39;49m\u001b[43mget_device_region\u001b[49m\u001b[43m(\u001b[49m\u001b[38;5;28;43mself\u001b[39;49m\u001b[38;5;241;43m.\u001b[39;49m\u001b[43m_arn\u001b[49m\u001b[43m)\u001b[49m\n\u001b[1;32m    305\u001b[0m     \u001b[38;5;28;01mreturn\u001b[39;00m (\n\u001b[1;32m    306\u001b[0m         \u001b[38;5;28mself\u001b[39m\u001b[38;5;241m.\u001b[39m_get_regional_device_session(session)\n\u001b[1;32m    307\u001b[0m         \u001b[38;5;28;01mif\u001b[39;00m device_region\n\u001b[1;32m    308\u001b[0m         \u001b[38;5;28;01melse\u001b[39;00m \u001b[38;5;28mself\u001b[39m\u001b[38;5;241m.\u001b[39m_get_non_regional_device_session(session)\n\u001b[1;32m    309\u001b[0m     )\n",
      "File \u001b[0;32m~/anaconda3/envs/Braket/lib/python3.10/site-packages/braket/aws/aws_device.py:676\u001b[0m, in \u001b[0;36mAwsDevice.get_device_region\u001b[0;34m(device_arn)\u001b[0m\n\u001b[1;32m    674\u001b[0m     \u001b[38;5;28;01mreturn\u001b[39;00m device_arn\u001b[38;5;241m.\u001b[39msplit(\u001b[38;5;124m\"\u001b[39m\u001b[38;5;124m:\u001b[39m\u001b[38;5;124m\"\u001b[39m)[\u001b[38;5;241m3\u001b[39m]\n\u001b[1;32m    675\u001b[0m \u001b[38;5;28;01mexcept\u001b[39;00m \u001b[38;5;167;01mIndexError\u001b[39;00m:\n\u001b[0;32m--> 676\u001b[0m     \u001b[38;5;28;01mraise\u001b[39;00m \u001b[38;5;167;01mValueError\u001b[39;00m(\n\u001b[1;32m    677\u001b[0m         \u001b[38;5;124mf\u001b[39m\u001b[38;5;124m\"\u001b[39m\u001b[38;5;124mDevice ARN is not a valid format: \u001b[39m\u001b[38;5;132;01m{\u001b[39;00mdevice_arn\u001b[38;5;132;01m}\u001b[39;00m\u001b[38;5;124m. For valid Braket ARNs, \u001b[39m\u001b[38;5;124m\"\u001b[39m\n\u001b[1;32m    678\u001b[0m         \u001b[38;5;124m\"\u001b[39m\u001b[38;5;124msee \u001b[39m\u001b[38;5;124m'\u001b[39m\u001b[38;5;124mhttps://docs.aws.amazon.com/braket/latest/developerguide/braket-devices.html\u001b[39m\u001b[38;5;124m'\u001b[39m\u001b[38;5;124m\"\u001b[39m\n\u001b[1;32m    679\u001b[0m     )\n",
      "\u001b[0;31mValueError\u001b[0m: Device ARN is not a valid format: us-east-1. For valid Braket ARNs, see 'https://docs.aws.amazon.com/braket/latest/developerguide/braket-devices.html'"
     ]
    }
   ],
   "source": [
    "from pennylane import qaoa\n",
    "from pennylane import numpy as np\n",
    "import pennylane as qml\n",
    "\n",
    "import networkx as nx\n",
    "from collections import Counter\n",
    "import matplotlib.pyplot as plt\n",
    "plt.style.use('seaborn-v0_8-notebook')\n",
    "import json\n",
    "\n",
    "import pandas as pd\n",
    "\n",
    "from braket.circuits import Circuit\n",
    "from braket.aws import AwsDevice\n",
    "from braket.devices import LocalSimulator\n",
    "\n",
    "# Set up AWS session (you may need to specify your region)\n",
    "aws_session = AwsDevice(\"us-east-1\")\n",
    "\n",
    "# Specify the desired quantum hardware\n",
    "device = AwsDevice(\"\")"
   ]
  },
  {
   "cell_type": "code",
   "execution_count": null,
   "id": "4adc9647-8131-46e7-b1dc-d90de3a976d3",
   "metadata": {
    "tags": []
   },
   "outputs": [],
   "source": [
    "import boto3\n",
    "\n",
    "# Initialize the Braket client for the 'us-east-1' region\n",
    "braket_client = boto3.client('braket', region_name='us-east-1')\n",
    "\n",
    "# List all devices\n",
    "devices = braket_client.list_devices()\n",
    "\n",
    "for device in devices['devices']:\n",
    "    device_arn = device['deviceArn']\n",
    "    device_name = device['deviceName']\n",
    "    device_status = device['deviceStatus']\n",
    "    \n",
    "    print(f\"Device Name: {device_name}\")\n",
    "    print(f\"Device ARN: {device_arn}\")\n",
    "    print(f\"Device Status: {device_status}\")\n",
    "    print(\"-------------------------\")\n"
   ]
  },
  {
   "cell_type": "code",
   "execution_count": null,
   "id": "06908923-6223-475d-8e35-c782da06c1ce",
   "metadata": {
    "tags": []
   },
   "outputs": [],
   "source": [
    "\n",
    "def generate_portfolio_data(N):\n",
    "    \"\"\"\n",
    "    Generates data for the portfolio optimization problem.\n",
    "    \n",
    "    Args:\n",
    "        N (int): Number of stocks in the portfolio.\n",
    "\n",
    "    Returns:\n",
    "        dict: A dictionary containing the generated data.\n",
    "    \"\"\"\n",
    "    # Randomly generate expected returns for each stock\n",
    "    r = np.random.uniform(0, 1, N)\n",
    "    \n",
    "    # Generate the covariance matrix\n",
    "    cov_matrix = np.random.uniform(-0.01, 0.01, (N, N))\n",
    "    \n",
    "    # Ensure it's symmetric\n",
    "    cov_matrix = (cov_matrix + cov_matrix.T) / 2\n",
    "    \n",
    "    # Set the diagonal to represent variances\n",
    "    np.fill_diagonal(cov_matrix, np.random.uniform(0.01, 0.5, N))\n",
    "    \n",
    "    # Calculate A (using a default weighting factor w=0.5 for simplicity)\n",
    "    w = 0.5\n",
    "    A = (1-w) * 2 * cov_matrix - w * np.diag(r)\n",
    "    \n",
    "    return {\n",
    "        'r': r,\n",
    "        'cov_matrix': cov_matrix,\n",
    "    }\n",
    "\n",
    "\n",
    "\n",
    "\n",
    "class CustomEncoder(json.JSONEncoder):\n",
    "    def default(self, obj):\n",
    "        if isinstance(obj, np.ndarray):  # Convert numpy arrays\n",
    "            return obj.tolist()\n",
    "        if 'tensor' in str(type(obj)):  # Convert tensors (basic assumption, might need adjustment)\n",
    "            return obj.numpy().tolist()  # Assuming you can convert tensor to numpy\n",
    "        return super().default(obj)\n",
    "\n",
    "#json_obj = {'r':r,\n",
    "# 'cov_matrix':cov_matrix}\n",
    "\n",
    "#with open('QCCC/example_input_n=n.json', 'w') as json_file:\n",
    "#    json.dump(json_obj, json_file, cls=CustomEncoder)"
   ]
  },
  {
   "cell_type": "markdown",
   "id": "ee81dd32-05cb-4953-b073-a3e585e0ec87",
   "metadata": {},
   "source": [
    "\n"
   ]
  },
  {
   "cell_type": "markdown",
   "id": "c27efbcb-5ee5-4060-b485-a0022280ba37",
   "metadata": {},
   "source": [
    "## Classical Portfolio Optimization (Markowitz Mean-Variance Optimization)\n",
    "\n",
    "### Objective:\n",
    "\n",
    "Given a set of assets, we want to find the optimal allocation of investments in these assets to maximize returns while minimizing risk.\n",
    "\n",
    "### Mathematical Formulation:\n",
    "\n",
    "#### Let:\n",
    "\n",
    "- r be a column vector of expected returns for each asset.\n",
    "\n",
    "- w be a column vector of weights for each asset, representing the fraction of total investment in that asset. \n",
    "\n",
    "    We have the constraint: ∑<sub>i</sub> w<sub>i</sub> = 1\n",
    "- Σ be the covariance matrix of asset returns.\n",
    "\n",
    "\n",
    "#### Portfolio Expected Return:\n",
    "\n",
    " R<sub>p</sub> = w<sup>T</sup>r\n",
    "\n",
    "#### Portfolio Variance (Risk):\n",
    "σ<sup>2</sup><sub>p</sub> =  w<sup>T</sup> Σ w\n",
    "\n",
    "\n",
    "### Optimization Problem:\n",
    "\n",
    "maximize R<sub>p</sub> − λσ<sup>2</sup><sub>p</sub>\n",
    "\n",
    "#### Subject to:\n",
    "\n",
    "∑<sub>i</sub> w<sub>i</sub> = 1\n",
    "\n",
    "#### Where:\n",
    "\n",
    "λ is a parameter that determines the trade-off between risk and return.\n",
    "\n"
   ]
  },
  {
   "cell_type": "code",
   "execution_count": 32,
   "id": "7f62725b-7ead-4020-a6eb-776b7ac3a817",
   "metadata": {
    "tags": []
   },
   "outputs": [
    {
     "name": "stdout",
     "output_type": "stream",
     "text": [
      "Expected Returns: \n",
      "\n",
      " [0.825 0.476 0.608 0.896 0.682 0.419 0.572 0.855] \n",
      "\n",
      "\n",
      "Covariance Matrix: \n",
      "\n",
      " [[ 0.109  0.001 -0.     0.006 -0.002 -0.002 -0.004  0.002]\n",
      " [ 0.001  0.202  0.003 -0.007 -0.002  0.005 -0.003 -0.002]\n",
      " [-0.     0.003  0.256  0.004  0.003 -0.003  0.007  0.004]\n",
      " [ 0.006 -0.007  0.004  0.073  0.005 -0.     0.    -0.005]\n",
      " [-0.002 -0.002  0.003  0.005  0.342 -0.    -0.007  0.006]\n",
      " [-0.002  0.005 -0.003 -0.    -0.     0.174  0.004  0.005]\n",
      " [-0.004 -0.003  0.007  0.    -0.007  0.004  0.328  0.008]\n",
      " [ 0.002 -0.002  0.004 -0.005  0.006  0.005  0.008  0.391]] \n",
      "\n"
     ]
    }
   ],
   "source": [
    "\n",
    "# 1. Define Global Parameters\n",
    "N = 8 # Number of stocks\n",
    "w = 0.5  # weighting / trade-off factor\n",
    "depth = 4  # Depth of the QAOA circuit\n",
    "wires = range(N)\n",
    "\n",
    "\n",
    "\n",
    "with open('QCCC/example_input_n=10.json', 'r') as json_file:\n",
    "    data = json.load(json_file)\n",
    " \n",
    "\n",
    " \n",
    "data = generate_portfolio_data(N)\n",
    "\n",
    "# Convert lists to numpy arrays#\n",
    "r = np.array(data['r'])\n",
    "cov_matrix = np.array(data['cov_matrix'])\n",
    "\n",
    "print(\"Expected Returns: \\n\\n\", np.round(r,3),\"\\n\")\n",
    "print(\"\\nCovariance Matrix: \\n\\n\", np.round(cov_matrix, 3), \"\\n\")"
   ]
  },
  {
   "cell_type": "markdown",
   "id": "c0525d23-4baa-4c3f-91ec-27cd92f3f5ed",
   "metadata": {},
   "source": [
    "# QUBO Formulation\n",
    "For quantum computing applications, the continuous variables in the Markowitz problem (the weights w) can be hard to handle. \n",
    "Instead, a binary representation is preferred, leading to a QUBO formulation.\n",
    "\n",
    "Assume we restrict our investment decisions to whether or not we should invest in a particular asset (binary decision: yes or no), without considering the fractional amount.\n",
    "\n",
    "\n",
    "\n",
    "#### Let:\n",
    "\n",
    "z be a binary vector, where z<sub>i</sub> = 1 if we invest in asset i and z<sub>i</sub> = 0 otherwise.\n",
    "\n",
    "The QUBO problem can then be described as:\n",
    "\n",
    "E(z)=−a<sup>T</sup>z + z<sup>T</sup>Bz\n",
    "\n",
    "or \n",
    "\n",
    "E(z)= z<sup>T</sup>Bz −a<sup>T</sup>z \n",
    "\n",
    "\n",
    "#### Where:\n",
    "- a is the expected returns of the assets.\n",
    "- B is covariance matrix of the assets.\n",
    "\n",
    "The objective is to find the binary vector z that minimizes E(z)."
   ]
  },
  {
   "cell_type": "code",
   "execution_count": 33,
   "id": "25f86009-061b-4b80-87b7-c63f8ba29461",
   "metadata": {
    "tags": []
   },
   "outputs": [
    {
     "name": "stdout",
     "output_type": "stream",
     "text": [
      "[[-0.304  0.001 -0.     0.006 -0.002 -0.002 -0.004  0.002]\n",
      " [ 0.001 -0.036  0.003 -0.007 -0.002  0.005 -0.003 -0.002]\n",
      " [-0.     0.003 -0.047  0.004  0.003 -0.003  0.007  0.004]\n",
      " [ 0.006 -0.007  0.004 -0.375  0.005 -0.     0.    -0.005]\n",
      " [-0.002 -0.002  0.003  0.005  0.002 -0.    -0.007  0.006]\n",
      " [-0.002  0.005 -0.003 -0.    -0.    -0.036  0.004  0.005]\n",
      " [-0.004 -0.003  0.007  0.    -0.007  0.004  0.042  0.008]\n",
      " [ 0.002 -0.002  0.004 -0.005  0.006  0.005  0.008 -0.037]]\n"
     ]
    }
   ],
   "source": [
    "# Generate QUBO Matrix\n",
    "\n",
    "#A = (1-w)*2*cov_matrix - w*np.diag(r)\n",
    "\n",
    "\n",
    "A = np.array((1-w) * 2 * np.array(cov_matrix) - w * np.diag(r))\n",
    "print(np.round(A, 3)) \n",
    "\n",
    "# Compute lambda_penalty\n",
    "m_return = r.mean()\n",
    "max_cov = np.max(cov_matrix)\n",
    "\n",
    "#lambda_penalty =  m_return/(2*N)\n",
    "\n",
    "\n",
    "#for i in range(N):\n",
    "#    for j in range(N):\n",
    "#        if i == j:\n",
    "#            A[i, j] += lambda_penalty  # Diagonal term\n",
    "#        else:\n",
    "#            A[i, j] -= lambda_penalty  \n",
    "#print(\"Modified QUBO with penalty:\\n\", np.round(A, 3))\n"
   ]
  },
  {
   "cell_type": "code",
   "execution_count": 34,
   "id": "4af6fcb2-f7ab-4481-aab8-0e44f9f9381a",
   "metadata": {
    "tags": []
   },
   "outputs": [],
   "source": [
    "\n",
    "# 2. Hamiltonian Construction\n",
    "\n",
    "def cost_hamiltonian():\n",
    "    \"\"\"\n",
    "    Constructs the cost Hamiltonian based on the QUBO matrix A.\n",
    "    \n",
    "    The cost Hamiltonian represents the problem we aim to solve. The matrix A encodes the \n",
    "    coefficients of the QUBO problem. This function constructs a Hamiltonian where each term \n",
    "    corresponds to a non-zero coefficient in A. The resulting Hamiltonian is suitable for quantum \n",
    "    optimization algorithms like QAOA.\n",
    "    \n",
    "    Returns:\n",
    "        qml.Hamiltonian: The constructed cost Hamiltonian.\n",
    "        \n",
    "    Global Variables:\n",
    "        A (np.ndarray): The QUBO matrix.\n",
    "    \"\"\"\n",
    "    \n",
    "    n = len(A)  # Get the size of the QUBO matrix\n",
    "    H = qml.Hamiltonian([], [])  # Initialize an empty Hamiltonian\n",
    "\n",
    "    # Loop through each entry of the QUBO matrix\n",
    "    for i in range(n):\n",
    "        for j in range(n):\n",
    "            if A[i, j]:  # If the matrix entry is non-zero\n",
    "                # Initialize a list of identity operations for each qubit\n",
    "                ops = [qml.Identity(w) for w in range(n)]\n",
    "                # Replace the j-th operator with a PauliZ\n",
    "                ops[j] = qml.PauliZ(j)\n",
    "                # Create a tensor product of the operators\n",
    "                tensor_op = qml.operation.Tensor(*ops)\n",
    "                # Add the term to the Hamiltonian with coefficient A[i,j]\n",
    "                H += qml.Hamiltonian([A[i, j]], [tensor_op])\n",
    "\n",
    "    return H  # Return the constructed cost Hamiltonian\n",
    "\n",
    "def mixer_hamiltonian():\n",
    "    \"\"\"\n",
    "    Constructs the mixer Hamiltonian.\n",
    "    \n",
    "    The mixer Hamiltonian helps in diversifying the search over all possible states. \n",
    "    It consists of PauliX operations on each qubit. During the QAOA algorithm, the mixer \n",
    "    Hamiltonian drives transitions between different states in the search space.\n",
    "    \n",
    "    Returns:\n",
    "        qml.Hamiltonian: The constructed mixer Hamiltonian.\n",
    "        \n",
    "    Global Variables:\n",
    "        N (int): The number of qubits.\n",
    "    \"\"\"\n",
    "    \n",
    "    # Coefficients for each PauliX term are set to 1\n",
    "    coeffs = [1 for _ in range(N)]\n",
    "    # PauliX operations for each qubit\n",
    "    obs = [qml.PauliX(i) for i in range(N)]\n",
    "    return qml.Hamiltonian(coeffs, obs)  # Return the mixer Hamiltonian\n",
    "\n",
    "# Construct the cost and mixer Hamiltonians\n",
    "cost_h = cost_hamiltonian()\n",
    "mixer_h = mixer_hamiltonian()\n"
   ]
  },
  {
   "attachments": {
    "326ed3f3-ea79-4343-85e5-96f13f309413.png": {
     "image/png": "[encoded data removed]"
    },
    "702d862f-4b1d-4e79-a9ab-3f36537da27b.png": {
     "image/png": "[encoded data removed]"
    },
    "d1721ed3-2632-4b7c-aff9-0eeff8717f15.png": {
     "image/png": "[encoded data removed]"
    },
    "d3edf002-205c-439a-ba73-a5fc97c216cb.png": {
     "image/png": "[encoded data removed]"
    }
   },
   "cell_type": "markdown",
   "id": "2e515ec2-c431-4fdd-a6ef-4ff9d4cf39de",
   "metadata": {},
   "source": [
    "\n",
    "Define a cost Hamiltonian  H<sub>C</sub> such that its ground state encodes the solution to the optimization problem\n",
    "\n",
    "## Quantum Approximate Optimization Algorithm (QAOA)\n",
    "#### 1 - Initial State Preparation: \n",
    "The QAOA starts by preparing a quantum state that is a uniform superposition of all possible computational basis states:\n",
    "![image.png](attachment:702d862f-4b1d-4e79-a9ab-3f36537da27b.png)\n",
    "\n",
    "Here, n is the number of qubits.\n",
    "\n",
    "#### 2 - Application of QAOA Layers: \n",
    "Then, a sequence of unitary transformations is applied to the state. Each QAOA layer is described by the two Hamiltonians: the cost Hamiltonian H<sub>C</sub> (representing the problem to be solved) and a mixing Hamiltonian H<sub>B</sub>. These Hamiltonians are applied alternately with parameters \n",
    "γ and β, which control the strength of the cost and mixer terms, respectively:\n",
    "\n",
    "![image.png](attachment:326ed3f3-ea79-4343-85e5-96f13f309413.png)\n",
    "\n",
    "The final state after p layers is:\n",
    "\n",
    "![image.png](attachment:d3edf002-205c-439a-ba73-a5fc97c216cb.png)\n",
    "\n",
    "Here, p is called the QAOA depth.\n",
    "![image.png](attachment:d1721ed3-2632-4b7c-aff9-0eeff8717f15.png)\n",
    "#### 3 - Measurement: \n",
    "After applying the QAOA layers, the quantum state is measured, and the outcome is used as a candidate solution for the optimization problem.\n",
    "\n",
    "#### 4 - Classical Optimization: \n",
    "The parameters β and γ are then adjusted classically to maximize the expectation value of the problem Hamiltonian with respect to the final quantum state. This is typically done using classical optimization algorithms like gradient descent or Nelder-Mead.\n",
    "\n",
    "#### 5 -Iteration: \n",
    "Steps 2 to 4 are repeated until convergence is reached, i.e., until a satisfactory solution is found or a certain number of iterations is achieved.\n",
    "\n"
   ]
  },
  {
   "cell_type": "code",
   "execution_count": 35,
   "id": "3004c3f8-2496-4522-b5d8-e26d05eccd11",
   "metadata": {
    "tags": []
   },
   "outputs": [
    {
     "name": "stdout",
     "output_type": "stream",
     "text": [
      "  (-0.3728450354456629) [Z3]\n",
      "+ (-0.3030207600427006) [Z0]\n",
      "+ (-0.039769945228566424) [Z1]\n",
      "+ (-0.030478490529130067) [Z2]\n",
      "+ (-0.026346201419496184) [Z5]\n",
      "+ (-0.0177292020244802) [Z7]\n",
      "+ (0.0045199502259713606) [Z4]\n",
      "+ (0.04780398341744886) [Z6]\n"
     ]
    }
   ],
   "source": [
    "cost_h"
   ]
  },
  {
   "cell_type": "code",
   "execution_count": 36,
   "id": "4474d92f-a0ee-4556-98fb-57028a31d0e5",
   "metadata": {
    "tags": []
   },
   "outputs": [
    {
     "name": "stdout",
     "output_type": "stream",
     "text": [
      "  (1) [X0]\n",
      "+ (1) [X1]\n",
      "+ (1) [X2]\n",
      "+ (1) [X3]\n",
      "+ (1) [X4]\n",
      "+ (1) [X5]\n",
      "+ (1) [X6]\n",
      "+ (1) [X7]\n"
     ]
    }
   ],
   "source": [
    "mixer_h"
   ]
  },
  {
   "cell_type": "code",
   "execution_count": 37,
   "id": "2b78b390-5ad7-47c1-9555-192912b47cfc",
   "metadata": {
    "tags": []
   },
   "outputs": [],
   "source": [
    "# 3. QAOA Circuit\n",
    "wires = range(N)\n",
    "\n",
    "def qaoa_layer(gamma, alpha):\n",
    "    \"\"\"\n",
    "    Implements one layer of the QAOA circuit.\n",
    "    \n",
    "    Each layer consists of two sub-layers: \n",
    "    1. A cost layer that applies e^(-i*gamma*cost_hamiltonian) to the state, which \"marks\" the \n",
    "       good solutions by introducing phase differences.\n",
    "    2. A mixer layer that applies e^(-i*alpha*mixer_hamiltonian) to diversify the search \n",
    "       over the state space.\n",
    "    \n",
    "    Parameters:\n",
    "        gamma (float): Parameter controlling the cost layer.\n",
    "        alpha (float): Parameter controlling the mixer layer.\n",
    "    \"\"\"\n",
    "    \n",
    "    # Apply the cost layer\n",
    "    qml.qaoa.cost_layer(gamma, cost_h)\n",
    "    # Apply the mixer layer\n",
    "    qml.qaoa.mixer_layer(alpha, mixer_h)\n",
    "\n",
    "def cost_circuit(params, **kwargs):\n",
    "    \"\"\"\n",
    "    Constructs the full QAOA circuit.\n",
    "    \n",
    "    The circuit initializes all qubits in a superposition state using Hadamard gates. \n",
    "    It then applies multiple QAOA layers, where the number of layers is determined by \n",
    "    the depth. The output is the expectation value of the cost Hamiltonian, which gives \n",
    "    the cost of the current state produced by the QAOA circuit.\n",
    "    \n",
    "    Parameters:\n",
    "        params (array[float]): The parameters of the QAOA circuit. It's expected to be \n",
    "                               of shape (2, depth), where params[0] are the gammas and \n",
    "                               params[1] are the alphas.\n",
    "    \n",
    "    Returns:\n",
    "        float: Expectation value of the cost Hamiltonian for the state produced by the circuit.\n",
    "    \"\"\"\n",
    "    \n",
    "    # Initialize all qubits in a superposition state\n",
    "    for w in wires:\n",
    "        qml.Hadamard(wires=w)\n",
    "    # Apply QAOA layers\n",
    "    qml.layer(qaoa_layer, depth, params[0], params[1])\n",
    "    \n",
    "    # Return the expectation value of the cost Hamiltonian\n",
    "    return qml.expval(cost_h)\n",
    "\n",
    "\n",
    "\n",
    "\n",
    "# Define a quantum device. Here, we're using the \"qulacs.simulator\" backend.\n",
    "dev = qml.device(\"qulacs.simulator\", wires=N)\n",
    "\n",
    "@qml.qnode(dev)\n",
    "def cost_function(params):\n",
    "    \"\"\"\n",
    "    QNode wrapper for the QAOA cost circuit.\n",
    "    \n",
    "    This function serves as a bridge between the classical and quantum parts of the algorithm. \n",
    "    It takes in classical parameters and returns the quantum expectation value by running the \n",
    "    cost_circuit on the defined quantum device. This expectation value will be used during \n",
    "    classical optimization to adjust the QAOA parameters for better solutions.\n",
    "    \n",
    "    Parameters:\n",
    "        params (array[float]): The parameters of the QAOA circuit. Shape is (2, depth).\n",
    "    \n",
    "    Returns:\n",
    "        float: Expectation value of the cost Hamiltonian.\n",
    "    \"\"\"\n",
    "    return cost_circuit(params)\n"
   ]
  },
  {
   "cell_type": "code",
   "execution_count": 38,
   "id": "9fd5357b-4437-49cb-bb88-059a5439be55",
   "metadata": {
    "tags": []
   },
   "outputs": [
    {
     "name": "stdout",
     "output_type": "stream",
     "text": [
      "0/25\n",
      "5/25\n",
      "10/25\n",
      "15/25\n",
      "20/25\n",
      "25/25\n",
      "Optimal Parameters:\n",
      "[[2.24726642 5.35958038 5.03985937 3.84861642]\n",
      " [1.01333905 1.39687223 1.21101712 1.85470748]]\n"
     ]
    }
   ],
   "source": [
    "\n",
    "# 4. Optimization Loop\n",
    "initial_gammas = np.random.uniform(0, 2 * np.pi, depth)\n",
    "initial_betas = np.random.uniform(0, np.pi, depth)\n",
    "params = np.array([initial_gammas, initial_betas], requires_grad=True)\n",
    "\n",
    "optimizer = qml.GradientDescentOptimizer()\n",
    "steps = 25\n",
    "for i in range(steps):\n",
    "    if i%5==0:\n",
    "        print(f\"{i}/{steps}\")\n",
    "    params = optimizer.step(cost_function, params)\n",
    "    \n",
    "print(f\"{i+1}/{steps}\")\n",
    "print(f'Optimal Parameters:\\n{params}')\n"
   ]
  },
  {
   "cell_type": "code",
   "execution_count": 39,
   "id": "48a33990-138e-4016-804f-b05f7c88cb57",
   "metadata": {
    "tags": []
   },
   "outputs": [
    {
     "data": {
      "image/png": "[encoded data removed]",
      "text/plain": [
       "<Figure size 800x550 with 1 Axes>"
      ]
     },
     "metadata": {},
     "output_type": "display_data"
    }
   ],
   "source": [
    "\n",
    "# 5. Probability Distribution Visualization\n",
    "dev = qml.device(\"default.qubit\", wires=N)\n",
    "@qml.qnode(dev)\n",
    "def probability_circuit(gamma, alpha):\n",
    "    \"\"\"QNode for the probability distribution.\"\"\"\n",
    "    for w in wires:\n",
    "        qml.Hadamard(wires=w)\n",
    "    qml.layer(qaoa_layer, depth, gamma, alpha)\n",
    "    return qml.probs(wires=wires)\n",
    "\n",
    "gamma_vals, alpha_vals = params\n",
    "probs = probability_circuit(gamma_vals, alpha_vals)\n",
    "plt.bar(range(2 ** N), probs)\n",
    "plt.show()"
   ]
  },
  {
   "cell_type": "code",
   "execution_count": 40,
   "id": "5c976726-9002-409f-8ba3-d20a63ff3649",
   "metadata": {
    "tags": []
   },
   "outputs": [
    {
     "data": {
      "text/plain": [
       "[1, 1, 1, 1, 0, 1, 0, 1]"
      ]
     },
     "execution_count": 40,
     "metadata": {},
     "output_type": "execute_result"
    }
   ],
   "source": [
    "\n",
    "# 6. Sampling\n",
    "dev = qml.device(\"default.qubit\", wires=N, shots=100000)\n",
    "def sampling_circuit(params, **kwargs):\n",
    "    \"\"\"QNode for sampling from the circuit.\"\"\"\n",
    "    for w in wires:\n",
    "        qml.Hadamard(wires=w)\n",
    "    qml.layer(qaoa_layer, depth, params[0], params[1])\n",
    "    return [qml.sample(qml.PauliZ(w)) for w in wires]\n",
    "\n",
    "@qml.qnode(dev)\n",
    "def sample_function(params):\n",
    "    \"\"\"Sample from the optimized QAOA circuit.\"\"\"\n",
    "    return sampling_circuit(params)\n",
    "\n",
    "optimal_params = params.copy()\n",
    "\n",
    "samples_array = np.array(sample_function(optimal_params))\n",
    "samples_transposed = samples_array.T\n",
    "#  Convert -1 to 0 to get the bitstrings\n",
    "bitstrings = np.where(samples_transposed == -1, 0, samples_transposed)\n",
    "\n",
    "# Convert to string for easy counting\n",
    "string_bits = [''.join(map(str, bitstring)) for bitstring in bitstrings]\n",
    "\n",
    "# Count occurrences\n",
    "bitstring_counts = Counter(string_bits)\n",
    "\n",
    "# Get the most common bitstring\n",
    "optimal_bitstring = bitstring_counts.most_common(1)[0][0]\n",
    "[int(b) for b in optimal_bitstring]"
   ]
  },
  {
   "cell_type": "code",
   "execution_count": 41,
   "id": "555bd2e8-6d28-40c0-a7fe-6e9c5a4af5a6",
   "metadata": {
    "tags": []
   },
   "outputs": [
    {
     "name": "stdout",
     "output_type": "stream",
     "text": [
      " Expected Returns: \n",
      "\n",
      " [0.825 0.476 0.608 0.896 0.682 0.419 0.572 0.855] \n",
      "\n"
     ]
    },
    {
     "data": {
      "text/plain": [
       "[1, 1, 1, 1, 0, 1, 0, 1]"
      ]
     },
     "execution_count": 41,
     "metadata": {},
     "output_type": "execute_result"
    }
   ],
   "source": [
    "print(\" Expected Returns: \\n\\n\", np.round(r,3),\"\\n\")\n",
    "[int(b) for b in optimal_bitstring]"
   ]
  },
  {
   "cell_type": "code",
   "execution_count": 42,
   "id": "36d5a673-8c4f-47f1-a099-4560bc72a39f",
   "metadata": {
    "tags": []
   },
   "outputs": [
    {
     "name": "stdout",
     "output_type": "stream",
     "text": [
      "<class 'numpy.ndarray'>\n",
      "<class 'numpy.ndarray'>\n"
     ]
    }
   ],
   "source": [
    "import numpy as np_\n",
    "from simanneal import Annealer\n",
    "\n",
    "r = np_.array(data['r'])\n",
    "cov_matrix = np_.array(data['cov_matrix'])\n",
    "\n",
    "r = np_.array(r)\n",
    "C = np_.array(cov_matrix)\n",
    "\n",
    "print(type(C))\n",
    "print(type(r))\n"
   ]
  },
  {
   "cell_type": "code",
   "execution_count": 43,
   "id": "8f454611-b75b-4471-9090-02926e4c9c39",
   "metadata": {
    "tags": []
   },
   "outputs": [
    {
     "name": "stdout",
     "output_type": "stream",
     "text": [
      "[[ 1.08725979e-01  1.08107089e-03 -4.74165218e-04  5.63873900e-03\n",
      "  -1.97307110e-03 -1.56971466e-03 -3.94332042e-03  2.19769830e-03]\n",
      " [ 1.08107089e-03  2.02103138e-01  3.37379116e-03 -6.98410965e-03\n",
      "  -2.17369644e-03  5.48724300e-03 -2.79326088e-03 -1.65576467e-03]\n",
      " [-4.74165218e-04  3.37379116e-03  2.56398233e-01  3.61862483e-03\n",
      "   2.98556822e-03 -2.73697903e-03  6.53662690e-03  3.70208998e-03]\n",
      " [ 5.63873900e-03 -6.98410965e-03  3.61862483e-03  7.27636975e-02\n",
      "   4.93672403e-03 -3.31630389e-04  2.03980956e-04 -4.82981784e-03]\n",
      " [-1.97307110e-03 -2.17369644e-03  2.98556822e-03  4.93672403e-03\n",
      "   3.42374314e-01 -3.80715005e-04 -6.71299579e-03  6.30703979e-03]\n",
      " [-1.56971466e-03  5.48724300e-03 -2.73697903e-03 -3.31630389e-04\n",
      "  -3.80715005e-04  1.73811705e-01  3.95880228e-03  5.01686747e-03]\n",
      " [-3.94332042e-03 -2.79326088e-03  6.53662690e-03  2.03980956e-04\n",
      "  -6.71299579e-03  3.95880228e-03  3.27994071e-01  8.32497129e-03]\n",
      " [ 2.19769830e-03 -1.65576467e-03  3.70208998e-03 -4.82981784e-03\n",
      "   6.30703979e-03  5.01686747e-03  8.32497129e-03  3.90742854e-01]]\n",
      "[0.82540795 0.47641671 0.60776456 0.89572249 0.68168644 0.41920356\n",
      " 0.57152978 0.85507028]\n"
     ]
    }
   ],
   "source": [
    "print(C)\n",
    "print(r)"
   ]
  },
  {
   "cell_type": "code",
   "execution_count": 44,
   "id": "bc6d47cf-4cf6-417d-a3c4-3c77d272a817",
   "metadata": {
    "tags": []
   },
   "outputs": [
    {
     "name": "stderr",
     "output_type": "stream",
     "text": [
      " Temperature        Energy    Accept   Improve     Elapsed   Remaining\n",
      "     0.10000         -1.42    53.00%    26.00%     0:00:04     0:00:00"
     ]
    },
    {
     "name": "stdout",
     "output_type": "stream",
     "text": [
      "Energy (Objective Value): -1.6243585686000888\n"
     ]
    }
   ],
   "source": [
    "\n",
    "\n",
    "\n",
    "class QUBOSolver(Annealer):\n",
    "\n",
    "    def __init__(self, r, C, state=None):\n",
    "        self.r = r\n",
    "        self.C = C\n",
    "        super(QUBOSolver, self).__init__(state)  # Important: initialize the parent class\n",
    "\n",
    "    def move(self):\n",
    "        # Pick a random index and flip the binary value\n",
    "        i = np.random.choice(len(self.state))\n",
    "        self.state[i] = 1 - self.state[i]\n",
    "\n",
    "    def energy(self):\n",
    "        x = np.array(self.state)\n",
    "        energy_val = x.T @ (2 * C @ x - r)\n",
    "        return energy_val\n",
    "\n",
    "\n",
    "# Initial state is a random selection of stocks\n",
    "init_state = np.random.choice([0, 1], size=len(r))\n",
    "\n",
    "qubo = QUBOSolver(r, C, state=init_state)\n",
    "\n",
    "qubo.Tmax = 10.0  # Max temperature\n",
    "qubo.Tmin = 0.1  # Min temperature\n",
    "qubo.steps = 10000  # Total steps of the anneal\n",
    "qubo.updates = 100  # Number of updates (by default an update prints to console)\n",
    "\n",
    "#qubo.set_schedule(qubo.auto(minutes=0.2))  # set approximate time to find the solution\n",
    "state, e = qubo.anneal()\n",
    "print(\"Energy (Objective Value):\", e)"
   ]
  },
  {
   "cell_type": "code",
   "execution_count": 45,
   "id": "85e89474-9b4e-4722-a95e-dfecce88e4a2",
   "metadata": {
    "tags": []
   },
   "outputs": [
    {
     "name": "stdout",
     "output_type": "stream",
     "text": [
      "Classical Simulated QUBO Solver  --   Selected Stocks: [1, 1, 1, 1, 0, 1, 0, 1]\n",
      "QAOA PennyLane Implemenation     --   Selected Stocks: [1, 1, 1, 1, 0, 1, 0, 1]\n"
     ]
    }
   ],
   "source": [
    "print(\"Classical Simulated QUBO Solver  --   Selected Stocks:\", [int(s) for s in state])\n",
    "print(\"QAOA PennyLane Implemenation     --   Selected Stocks:\", [int(b) for b in optimal_bitstring])"
   ]
  },
  {
   "cell_type": "code",
   "execution_count": null,
   "id": "ac32daf1-3695-4df9-940d-2e0d96a6f665",
   "metadata": {
    "jupyter": {
     "source_hidden": true
    },
    "tags": []
   },
   "outputs": [],
   "source": [
    "def calculate_sharpe_ratio(optimal_bitstring, r, cov_matrix, risk_free_rate=0.01):\n",
    "    \"\"\"\n",
    "    Calculates the Sharpe ratio for a given portfolio defined by the optimal_bitstring.\n",
    "    \n",
    "    Args:\n",
    "        optimal_bitstring (str): The string representation of the portfolio (1 for included stocks, 0 for excluded).\n",
    "        r (list): Expected returns for individual stocks.\n",
    "        cov_matrix (np.ndarray): Covariance matrix for the stocks.\n",
    "        risk_free_rate (float, optional): The risk-free rate. Defaults to 0.01.\n",
    "\n",
    "    Returns:\n",
    "        float: The calculated Sharpe ratio.\n",
    "    \"\"\"\n",
    "    # Convert bitstring to a list of integers\n",
    "    allocation = [int(bit) for bit in optimal_bitstring]\n",
    "    \n",
    "    # Expected portfolio return\n",
    "    expected_return = np.dot(allocation, r)\n",
    "    \n",
    "    # Portfolio variance and standard deviation\n",
    "    portfolio_variance = np.dot(allocation, np.dot(cov_matrix, allocation))\n",
    "    portfolio_std_dev = np.sqrt(portfolio_variance)\n",
    "    \n",
    "    # Sharpe ratio\n",
    "    sharpe_ratio = (expected_return - risk_free_rate) / portfolio_std_dev\n",
    "    \n",
    "    return sharpe_ratio, expected_return/sum(allocation)\n",
    "\n",
    "# Example Usage\n",
    "def calculate_all_sharpe_ratios(bitstrings, r, cov_matrix):\n",
    "    return [calculate_sharpe_ratio(bitstring, r, cov_matrix)[0] for bitstring in bitstrings]\n",
    "\n",
    "# Calculate Sharpe ratios for all bitstrings\n",
    "def calculate_all_ers(bitstrings, r, cov_matrix):\n",
    "    return [calculate_sharpe_ratio(bitstring, r, cov_matrix)[1] for bitstring in bitstrings]\n"
   ]
  }
 ],
 "metadata": {
  "kernelspec": {
   "display_name": "conda_braket",
   "language": "python",
   "name": "conda_braket"
  },
  "language_info": {
   "codemirror_mode": {
    "name": "ipython",
    "version": 3
   },
   "file_extension": ".py",
   "mimetype": "text/x-python",
   "name": "python",
   "nbconvert_exporter": "python",
   "pygments_lexer": "ipython3",
   "version": "3.10.12"
  }
 },
 "nbformat": 4,
 "nbformat_minor": 5
}
