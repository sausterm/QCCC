{
 "cells": [
  {
   "cell_type": "code",
   "execution_count": 1,
   "id": "2ac15ac2-47ad-43dc-96b5-dc14d3c4c998",
   "metadata": {
    "collapsed": true,
    "jupyter": {
     "outputs_hidden": true
    },
    "tags": []
   },
   "outputs": [
    {
     "name": "stdout",
     "output_type": "stream",
     "text": [
      "Requirement already satisfied: qulacs in /home/ec2-user/anaconda3/envs/Braket/lib/python3.10/site-packages (0.6.2)\n",
      "Requirement already satisfied: numpy in /home/ec2-user/anaconda3/envs/Braket/lib/python3.10/site-packages (from qulacs) (1.23.5)\n",
      "Requirement already satisfied: scipy in /home/ec2-user/anaconda3/envs/Braket/lib/python3.10/site-packages (from qulacs) (1.11.3)\n",
      "Note: you may need to restart the kernel to use updated packages.\n"
     ]
    }
   ],
   "source": [
    "pip install qulacs"
   ]
  },
  {
   "cell_type": "code",
   "execution_count": 2,
   "id": "3d594404-f969-45b1-bcb5-305511d42803",
   "metadata": {
    "collapsed": true,
    "jupyter": {
     "outputs_hidden": true
    },
    "tags": []
   },
   "outputs": [
    {
     "name": "stdout",
     "output_type": "stream",
     "text": [
      "Requirement already satisfied: matplotlib in /home/ec2-user/anaconda3/envs/Braket/lib/python3.10/site-packages (3.8.0)\n",
      "Requirement already satisfied: seaborn in /home/ec2-user/anaconda3/envs/Braket/lib/python3.10/site-packages (0.13.0)\n",
      "Requirement already satisfied: contourpy>=1.0.1 in /home/ec2-user/anaconda3/envs/Braket/lib/python3.10/site-packages (from matplotlib) (1.1.1)\n",
      "Requirement already satisfied: cycler>=0.10 in /home/ec2-user/anaconda3/envs/Braket/lib/python3.10/site-packages (from matplotlib) (0.12.1)\n",
      "Requirement already satisfied: fonttools>=4.22.0 in /home/ec2-user/anaconda3/envs/Braket/lib/python3.10/site-packages (from matplotlib) (4.43.1)\n",
      "Requirement already satisfied: kiwisolver>=1.0.1 in /home/ec2-user/anaconda3/envs/Braket/lib/python3.10/site-packages (from matplotlib) (1.4.5)\n",
      "Requirement already satisfied: numpy<2,>=1.21 in /home/ec2-user/anaconda3/envs/Braket/lib/python3.10/site-packages (from matplotlib) (1.23.5)\n",
      "Requirement already satisfied: packaging>=20.0 in /home/ec2-user/anaconda3/envs/Braket/lib/python3.10/site-packages (from matplotlib) (23.2)\n",
      "Requirement already satisfied: pillow>=6.2.0 in /home/ec2-user/anaconda3/envs/Braket/lib/python3.10/site-packages (from matplotlib) (10.1.0)\n",
      "Requirement already satisfied: pyparsing>=2.3.1 in /home/ec2-user/anaconda3/envs/Braket/lib/python3.10/site-packages (from matplotlib) (3.1.1)\n",
      "Requirement already satisfied: python-dateutil>=2.7 in /home/ec2-user/anaconda3/envs/Braket/lib/python3.10/site-packages (from matplotlib) (2.8.2)\n",
      "Requirement already satisfied: pandas>=1.2 in /home/ec2-user/anaconda3/envs/Braket/lib/python3.10/site-packages (from seaborn) (2.1.1)\n",
      "Requirement already satisfied: pytz>=2020.1 in /home/ec2-user/anaconda3/envs/Braket/lib/python3.10/site-packages (from pandas>=1.2->seaborn) (2023.3.post1)\n",
      "Requirement already satisfied: tzdata>=2022.1 in /home/ec2-user/anaconda3/envs/Braket/lib/python3.10/site-packages (from pandas>=1.2->seaborn) (2023.3)\n",
      "Requirement already satisfied: six>=1.5 in /home/ec2-user/anaconda3/envs/Braket/lib/python3.10/site-packages (from python-dateutil>=2.7->matplotlib) (1.16.0)\n",
      "Note: you may need to restart the kernel to use updated packages.\n"
     ]
    }
   ],
   "source": [
    "pip install --upgrade matplotlib seaborn"
   ]
  },
  {
   "cell_type": "code",
   "execution_count": 540,
   "id": "facaca10-e6d3-43eb-87d5-a3bbe50d4124",
   "metadata": {
    "tags": []
   },
   "outputs": [],
   "source": [
    "from pennylane import qaoa\n",
    "from pennylane import numpy as np\n",
    "import pennylane as qml\n",
    "\n",
    "import networkx as nx\n",
    "from collections import Counter\n",
    "import matplotlib.pyplot as plt\n",
    "plt.style.use('seaborn-v0_8-notebook')\n",
    "import json\n"
   ]
  },
  {
   "cell_type": "code",
   "execution_count": 550,
   "id": "06908923-6223-475d-8e35-c782da06c1ce",
   "metadata": {
    "tags": []
   },
   "outputs": [],
   "source": [
    "\n",
    "def generate_portfolio_data(N):\n",
    "    \"\"\"\n",
    "    Generates data for the portfolio optimization problem.\n",
    "    \n",
    "    Args:\n",
    "        N (int): Number of stocks in the portfolio.\n",
    "\n",
    "    Returns:\n",
    "        dict: A dictionary containing the generated data.\n",
    "    \"\"\"\n",
    "    # Randomly generate expected returns for each stock\n",
    "    r = np.random.uniform(0, 1, N)\n",
    "    \n",
    "    # Generate the covariance matrix\n",
    "    cov_matrix = np.random.uniform(-0.01, 0.01, (N, N))\n",
    "    \n",
    "    # Ensure it's symmetric\n",
    "    cov_matrix = (cov_matrix + cov_matrix.T) / 2\n",
    "    \n",
    "    # Set the diagonal to represent variances\n",
    "    np.fill_diagonal(cov_matrix, np.random.uniform(0.01, 0.5, N))\n",
    "    \n",
    "    # Calculate A (using a default weighting factor w=0.5 for simplicity)\n",
    "    w = 0.5\n",
    "    A = (1-w) * 2 * cov_matrix - w * np.diag(r)\n",
    "    \n",
    "    return {\n",
    "        'r': r,\n",
    "        'cov_matrix': cov_matrix,\n",
    "    }\n",
    "\n",
    "\n",
    "\n",
    "\n",
    "class CustomEncoder(json.JSONEncoder):\n",
    "    def default(self, obj):\n",
    "        if isinstance(obj, np.ndarray):  # Convert numpy arrays\n",
    "            return obj.tolist()\n",
    "        if 'tensor' in str(type(obj)):  # Convert tensors (basic assumption, might need adjustment)\n",
    "            return obj.numpy().tolist()  # Assuming you can convert tensor to numpy\n",
    "        return super().default(obj)\n",
    "\n",
    "#json_obj = {'r':r,\n",
    "# 'cov_matrix':cov_matrix}\n",
    "\n",
    "\n",
    "#with open('QCCC/example_input_n=n.json', 'w') as json_file:\n",
    "#    json.dump(json_obj, json_file, cls=CustomEncoder)\n",
    "\n",
    "    "
   ]
  },
  {
   "cell_type": "code",
   "execution_count": 551,
   "id": "cb399550-8a55-4836-bf27-e1f6fc940710",
   "metadata": {
    "tags": []
   },
   "outputs": [
    {
     "data": {
      "text/plain": [
       "(tensor([0.34197898, 0.64721647, 0.27720048, 0.51582432], requires_grad=True),\n",
       " tensor([[ 0.06347498,  0.00380937, -0.00467495,  0.00508954],\n",
       "         [ 0.00380937,  0.44966626,  0.00726831, -0.00540308],\n",
       "         [-0.00467495,  0.00726831,  0.03085374,  0.00482647],\n",
       "         [ 0.00508954, -0.00540308,  0.00482647,  0.20834973]], requires_grad=True))"
      ]
     },
     "execution_count": 551,
     "metadata": {},
     "output_type": "execute_result"
    }
   ],
   "source": [
    "N = 4\n",
    "portfolio_data = generate_portfolio_data(N)\n",
    "r = portfolio_data['r']\n",
    "cov_matrix = portfolio_data['cov_matrix']\n",
    "r,cov_matrix"
   ]
  },
  {
   "cell_type": "markdown",
   "id": "ee81dd32-05cb-4953-b073-a3e585e0ec87",
   "metadata": {},
   "source": [
    "\n"
   ]
  },
  {
   "cell_type": "markdown",
   "id": "c27efbcb-5ee5-4060-b485-a0022280ba37",
   "metadata": {},
   "source": [
    "## Classical Portfolio Optimization (Markowitz Mean-Variance Optimization)\n",
    "\n",
    "### Objective:\n",
    "\n",
    "Given a set of assets, we want to find the optimal allocation of investments in these assets to maximize returns while minimizing risk.\n",
    "\n",
    "### Mathematical Formulation:\n",
    "\n",
    "#### Let:\n",
    "\n",
    "- r be a column vector of expected returns for each asset.\n",
    "\n",
    "- w be a column vector of weights for each asset, representing the fraction of total investment in that asset. \n",
    "\n",
    "    We have the constraint: ∑<sub>i</sub> w<sub>i</sub> = 1\n",
    "- Σ be the covariance matrix of asset returns.\n",
    "\n",
    "\n",
    "#### Portfolio Expected Return:\n",
    "\n",
    " R<sub>p</sub> = w<sup>T</sup>r\n",
    "\n",
    "#### Portfolio Variance (Risk):\n",
    "σ<sup>2</sup><sub>p</sub> =  w<sup>T</sup> Σ w\n",
    "\n",
    "\n",
    "### Optimization Problem:\n",
    "\n",
    "maximize R<sub>p</sub> − λσ<sup>2</sup><sub>p</sub>\n",
    "\n",
    "#### Subject to:\n",
    "\n",
    "∑<sub>i</sub> w<sub>i</sub> = 1\n",
    "\n",
    "#### Where:\n",
    "\n",
    "λ is a parameter that determines the trade-off between risk and return.\n",
    "\n"
   ]
  },
  {
   "cell_type": "code",
   "execution_count": 555,
   "id": "7f62725b-7ead-4020-a6eb-776b7ac3a817",
   "metadata": {
    "tags": []
   },
   "outputs": [
    {
     "name": "stdout",
     "output_type": "stream",
     "text": [
      "Expected Returns: \n",
      "\n",
      " [0.916 0.551 0.019 0.106 0.16  0.041 0.618 0.269 0.271 0.734] \n",
      "\n",
      "\n",
      "Covariance Matrix: \n",
      "\n",
      " [[ 0.064  0.001  0.004 -0.008 -0.     0.007 -0.003  0.001 -0.001  0.002]\n",
      " [ 0.001  0.221  0.     0.003 -0.008 -0.001 -0.001 -0.004  0.     0.003]\n",
      " [ 0.004  0.     0.1   -0.006  0.004  0.004  0.003 -0.009  0.005 -0.002]\n",
      " [-0.008  0.003 -0.006  0.301  0.001 -0.     0.001 -0.002 -0.     0.003]\n",
      " [-0.    -0.008  0.004  0.001  0.319 -0.     0.002  0.004  0.007 -0.004]\n",
      " [ 0.007 -0.001  0.004 -0.    -0.     0.122  0.008 -0.001 -0.004  0.003]\n",
      " [-0.003 -0.001  0.003  0.001  0.002  0.008  0.283  0.004  0.003 -0.002]\n",
      " [ 0.001 -0.004 -0.009 -0.002  0.004 -0.001  0.004  0.257 -0.001 -0.001]\n",
      " [-0.001  0.     0.005 -0.     0.007 -0.004  0.003 -0.001  0.029 -0.003]\n",
      " [ 0.002  0.003 -0.002  0.003 -0.004  0.003 -0.002 -0.001 -0.003  0.03 ]] \n",
      "\n"
     ]
    }
   ],
   "source": [
    "\n",
    "# 1. Define Global Parameters\n",
    "N = 10  # Number of stocks\n",
    "w = 0.5  # weighting / trade-off factor\n",
    "depth = 4  # Depth of the QAOA circuit\n",
    "wires = range(N)\n",
    "\n",
    "\n",
    "#portfolio_data = generate_portfolio_data(N)\n",
    "\n",
    "with open('QCCC/example_input_n=10.json', 'r') as json_file:\n",
    "    data = json.load(json_file)\n",
    "\n",
    "# Convert lists to numpy arrays\n",
    "r = np.array(data['r'])\n",
    "cov_matrix = np.array(data['cov_matrix'])\n",
    "\n",
    "print(\"Expected Returns: \\n\\n\", np.round(r,3),\"\\n\")\n",
    "print(\"\\nCovariance Matrix: \\n\\n\", np.round(cov_matrix, 3), \"\\n\")"
   ]
  },
  {
   "cell_type": "markdown",
   "id": "c0525d23-4baa-4c3f-91ec-27cd92f3f5ed",
   "metadata": {},
   "source": [
    "# QUBO Formulation\n",
    "For quantum computing applications, the continuous variables in the Markowitz problem (the weights w) can be hard to handle. \n",
    "Instead, a binary representation is preferred, leading to a QUBO formulation.\n",
    "\n",
    "Assume we restrict our investment decisions to whether or not we should invest in a particular asset (binary decision: yes or no), without considering the fractional amount.\n",
    "\n",
    "\n",
    "\n",
    "#### Let:\n",
    "\n",
    "z be a binary vector, where z<sub>i</sub> = 1 if we invest in asset i and z<sub>i</sub> = 0 otherwise.\n",
    "\n",
    "The QUBO problem can then be described as:\n",
    "\n",
    "E(z)=−a<sup>T</sup>z + z<sup>T</sup>Bz\n",
    "\n",
    "or \n",
    "\n",
    "E(z)= z<sup>T</sup>Bz −a<sup>T</sup>z \n",
    "\n",
    "\n",
    "#### Where:\n",
    "- a is the expected returns of the assets.\n",
    "- B is covariance matrix of the assets.\n",
    "\n",
    "The objective is to find the binary vector z that minimizes E(z)."
   ]
  },
  {
   "cell_type": "code",
   "execution_count": 558,
   "id": "25f86009-061b-4b80-87b7-c63f8ba29461",
   "metadata": {
    "tags": []
   },
   "outputs": [
    {
     "name": "stdout",
     "output_type": "stream",
     "text": [
      "[[-0.394  0.001  0.004 -0.008 -0.     0.007 -0.003  0.001 -0.001  0.002]\n",
      " [ 0.001 -0.055  0.     0.003 -0.008 -0.001 -0.001 -0.004  0.     0.003]\n",
      " [ 0.004  0.     0.091 -0.006  0.004  0.004  0.003 -0.009  0.005 -0.002]\n",
      " [-0.008  0.003 -0.006  0.248  0.001 -0.     0.001 -0.002 -0.     0.003]\n",
      " [-0.    -0.008  0.004  0.001  0.239 -0.     0.002  0.004  0.007 -0.004]\n",
      " [ 0.007 -0.001  0.004 -0.    -0.     0.101  0.008 -0.001 -0.004  0.003]\n",
      " [-0.003 -0.001  0.003  0.001  0.002  0.008 -0.026  0.004  0.003 -0.002]\n",
      " [ 0.001 -0.004 -0.009 -0.002  0.004 -0.001  0.004  0.123 -0.001 -0.001]\n",
      " [-0.001  0.     0.005 -0.     0.007 -0.004  0.003 -0.001 -0.106 -0.003]\n",
      " [ 0.002  0.003 -0.002  0.003 -0.004  0.003 -0.002 -0.001 -0.003 -0.337]]\n"
     ]
    }
   ],
   "source": [
    "# Generate QUBO Matrix\n",
    "\n",
    "A = (1-w)*2*cov_matrix - w*np.diag(r)\n",
    "print(np.round(A, 3)) "
   ]
  },
  {
   "attachments": {
    "d1721ed3-2632-4b7c-aff9-0eeff8717f15.png": {
     "image/png": "[encoded data removed]"
    }
   },
   "cell_type": "markdown",
   "id": "2e515ec2-c431-4fdd-a6ef-4ff9d4cf39de",
   "metadata": {},
   "source": [
    "## Quantum Approximate Optimization Algorithm (QAOA)\n",
    "![image.png](attachment:d1721ed3-2632-4b7c-aff9-0eeff8717f15.png)"
   ]
  },
  {
   "cell_type": "code",
   "execution_count": 559,
   "id": "4af6fcb2-f7ab-4481-aab8-0e44f9f9381a",
   "metadata": {
    "tags": []
   },
   "outputs": [],
   "source": [
    "\n",
    "# 2. Hamiltonian Construction\n",
    "\n",
    "def cost_hamiltonian():\n",
    "    \"\"\"\n",
    "    Constructs the cost Hamiltonian based on the QUBO matrix A.\n",
    "    \n",
    "    The cost Hamiltonian represents the problem we aim to solve. The matrix A encodes the \n",
    "    coefficients of the QUBO problem. This function constructs a Hamiltonian where each term \n",
    "    corresponds to a non-zero coefficient in A. The resulting Hamiltonian is suitable for quantum \n",
    "    optimization algorithms like QAOA.\n",
    "    \n",
    "    Returns:\n",
    "        qml.Hamiltonian: The constructed cost Hamiltonian.\n",
    "        \n",
    "    Global Variables:\n",
    "        A (np.ndarray): The QUBO matrix.\n",
    "    \"\"\"\n",
    "    \n",
    "    n = len(A)  # Get the size of the QUBO matrix\n",
    "    H = qml.Hamiltonian([], [])  # Initialize an empty Hamiltonian\n",
    "\n",
    "    # Loop through each entry of the QUBO matrix\n",
    "    for i in range(n):\n",
    "        for j in range(n):\n",
    "            if A[i, j]:  # If the matrix entry is non-zero\n",
    "                # Initialize a list of identity operations for each qubit\n",
    "                ops = [qml.Identity(w) for w in range(n)]\n",
    "                # Replace the j-th operator with a PauliZ\n",
    "                ops[j] = qml.PauliZ(j)\n",
    "                # Create a tensor product of the operators\n",
    "                tensor_op = qml.operation.Tensor(*ops)\n",
    "                # Add the term to the Hamiltonian with coefficient A[i,j]\n",
    "                H += qml.Hamiltonian([A[i, j]], [tensor_op])\n",
    "\n",
    "    return H  # Return the constructed cost Hamiltonian\n",
    "\n",
    "def mixer_hamiltonian():\n",
    "    \"\"\"\n",
    "    Constructs the mixer Hamiltonian.\n",
    "    \n",
    "    The mixer Hamiltonian helps in diversifying the search over all possible states. \n",
    "    It consists of PauliX operations on each qubit. During the QAOA algorithm, the mixer \n",
    "    Hamiltonian drives transitions between different states in the search space.\n",
    "    \n",
    "    Returns:\n",
    "        qml.Hamiltonian: The constructed mixer Hamiltonian.\n",
    "        \n",
    "    Global Variables:\n",
    "        N (int): The number of qubits.\n",
    "    \"\"\"\n",
    "    \n",
    "    # Coefficients for each PauliX term are set to 1\n",
    "    coeffs = [1 for _ in range(N)]\n",
    "    # PauliX operations for each qubit\n",
    "    obs = [qml.PauliX(i) for i in range(N)]\n",
    "    return qml.Hamiltonian(coeffs, obs)  # Return the mixer Hamiltonian\n",
    "\n",
    "# Construct the cost and mixer Hamiltonians\n",
    "cost_h = cost_hamiltonian()\n",
    "mixer_h = mixer_hamiltonian()\n"
   ]
  },
  {
   "cell_type": "code",
   "execution_count": 560,
   "id": "3004c3f8-2496-4522-b5d8-e26d05eccd11",
   "metadata": {
    "tags": []
   },
   "outputs": [
    {
     "name": "stdout",
     "output_type": "stream",
     "text": [
      "  (-0.3910638795391579) [Z0]\n",
      "+ (-0.3374359494126917) [Z9]\n",
      "+ (-0.10049904704205558) [Z8]\n",
      "+ (-0.06197819864616051) [Z1]\n",
      "+ (-0.011441310563624726) [Z6]\n",
      "+ (0.09356937184265458) [Z2]\n",
      "+ (0.11590932767809804) [Z5]\n",
      "+ (0.11631859025503717) [Z7]\n",
      "+ (0.24034915883920688) [Z3]\n",
      "+ (0.2437291664059884) [Z4]\n"
     ]
    }
   ],
   "source": [
    "cost_h"
   ]
  },
  {
   "cell_type": "code",
   "execution_count": 561,
   "id": "4474d92f-a0ee-4556-98fb-57028a31d0e5",
   "metadata": {
    "tags": []
   },
   "outputs": [
    {
     "name": "stdout",
     "output_type": "stream",
     "text": [
      "  (1) [X0]\n",
      "+ (1) [X1]\n",
      "+ (1) [X2]\n",
      "+ (1) [X3]\n",
      "+ (1) [X4]\n",
      "+ (1) [X5]\n",
      "+ (1) [X6]\n",
      "+ (1) [X7]\n",
      "+ (1) [X8]\n",
      "+ (1) [X9]\n"
     ]
    }
   ],
   "source": [
    "mixer_h"
   ]
  },
  {
   "cell_type": "markdown",
   "id": "1e141f0e-eeb7-4751-af10-e420512c9c49",
   "metadata": {},
   "source": [
    "qaoa_layer: This function represents a single layer of the QAOA circuit. Each QAOA layer consists of two parts: the cost layer (driven by the cost Hamiltonian) and the mixer layer (driven by the mixer Hamiltonian). The parameters gamma and alpha control the strength of the cost and mixer terms, respectively.\n",
    "\n",
    "cost_circuit: This function constructs the full QAOA circuit for a given set of parameters. It starts by preparing a superposition of all possible computational basis states using Hadamard gates. It then applies multiple QAOA layers (as defined by qaoa_layer), with the number of layers being set by depth. The output of the circuit is the expectation value of the cost Hamiltonian, which indicates the \"cost\" or \"quality\" of the current state produced by the QAOA circuit.\n",
    "\n",
    "cost_function: This is a QNode, which serves as an interface between classical and quantum computations. It allows you to compute the expectation value of the cost Hamiltonian for a given set of QAOA parameters. This QNode will be evaluated many times during the classical optimization process to find the best set of parameters for the QAOA circuit. The goal of the classical optimization is to adjust the QAOA parameters to produce a quantum state that corresponds to the optimal or near-optimal solution to the problem."
   ]
  },
  {
   "cell_type": "code",
   "execution_count": 566,
   "id": "2b78b390-5ad7-47c1-9555-192912b47cfc",
   "metadata": {
    "tags": []
   },
   "outputs": [],
   "source": [
    "# 3. QAOA Circuit\n",
    "wires = range(N)\n",
    "\n",
    "def qaoa_layer(gamma, alpha):\n",
    "    \"\"\"\n",
    "    Implements one layer of the QAOA circuit.\n",
    "    \n",
    "    Each layer consists of two sub-layers: \n",
    "    1. A cost layer that applies e^(-i*gamma*cost_hamiltonian) to the state, which \"marks\" the \n",
    "       good solutions by introducing phase differences.\n",
    "    2. A mixer layer that applies e^(-i*alpha*mixer_hamiltonian) to diversify the search \n",
    "       over the state space.\n",
    "    \n",
    "    Parameters:\n",
    "        gamma (float): Parameter controlling the cost layer.\n",
    "        alpha (float): Parameter controlling the mixer layer.\n",
    "    \"\"\"\n",
    "    \n",
    "    # Apply the cost layer\n",
    "    qml.qaoa.cost_layer(gamma, cost_h)\n",
    "    # Apply the mixer layer\n",
    "    qml.qaoa.mixer_layer(alpha, mixer_h)\n",
    "\n",
    "def cost_circuit(params, **kwargs):\n",
    "    \"\"\"\n",
    "    Constructs the full QAOA circuit.\n",
    "    \n",
    "    The circuit initializes all qubits in a superposition state using Hadamard gates. \n",
    "    It then applies multiple QAOA layers, where the number of layers is determined by \n",
    "    the depth. The output is the expectation value of the cost Hamiltonian, which gives \n",
    "    the cost of the current state produced by the QAOA circuit.\n",
    "    \n",
    "    Parameters:\n",
    "        params (array[float]): The parameters of the QAOA circuit. It's expected to be \n",
    "                               of shape (2, depth), where params[0] are the gammas and \n",
    "                               params[1] are the alphas.\n",
    "    \n",
    "    Returns:\n",
    "        float: Expectation value of the cost Hamiltonian for the state produced by the circuit.\n",
    "    \"\"\"\n",
    "    \n",
    "    # Initialize all qubits in a superposition state\n",
    "    for w in wires:\n",
    "        qml.Hadamard(wires=w)\n",
    "    # Apply QAOA layers\n",
    "    qml.layer(qaoa_layer, depth, params[0], params[1])\n",
    "    \n",
    "    # Return the expectation value of the cost Hamiltonian\n",
    "    return qml.expval(cost_h)\n",
    "\n",
    "\n",
    "\n",
    "\n",
    "# Define a quantum device. Here, we're using the \"qulacs.simulator\" backend.\n",
    "dev = qml.device(\"qulacs.simulator\", wires=N)\n",
    "\n",
    "@qml.qnode(dev)\n",
    "def cost_function(params):\n",
    "    \"\"\"\n",
    "    QNode wrapper for the QAOA cost circuit.\n",
    "    \n",
    "    This function serves as a bridge between the classical and quantum parts of the algorithm. \n",
    "    It takes in classical parameters and returns the quantum expectation value by running the \n",
    "    cost_circuit on the defined quantum device. This expectation value will be used during \n",
    "    classical optimization to adjust the QAOA parameters for better solutions.\n",
    "    \n",
    "    Parameters:\n",
    "        params (array[float]): The parameters of the QAOA circuit. Shape is (2, depth).\n",
    "    \n",
    "    Returns:\n",
    "        float: Expectation value of the cost Hamiltonian.\n",
    "    \"\"\"\n",
    "    return cost_circuit(params)\n"
   ]
  },
  {
   "cell_type": "code",
   "execution_count": 567,
   "id": "9fd5357b-4437-49cb-bb88-059a5439be55",
   "metadata": {
    "tags": []
   },
   "outputs": [
    {
     "name": "stdout",
     "output_type": "stream",
     "text": [
      "0/25\n",
      "5/25\n",
      "10/25\n",
      "15/25\n",
      "20/25\n",
      "25/25\n",
      "Optimal Parameters:\n",
      "[[4.68879737 1.09913692 1.83285423 4.20327061]\n",
      " [1.22088562 2.5769457  2.87638505 1.58087041]]\n"
     ]
    }
   ],
   "source": [
    "\n",
    "# 4. Optimization Loop\n",
    "initial_gammas = np.random.uniform(0, 2 * np.pi, depth)\n",
    "initial_betas = np.random.uniform(0, np.pi, depth)\n",
    "params = np.array([initial_gammas, initial_betas], requires_grad=True)\n",
    "\n",
    "optimizer = qml.GradientDescentOptimizer()\n",
    "steps = 25\n",
    "for i in range(steps):\n",
    "    if i%5==0:\n",
    "        print(f\"{i}/{steps}\")\n",
    "    params = optimizer.step(cost_function, params)\n",
    "    \n",
    "print(f\"{i+1}/{steps}\")\n",
    "print(f'Optimal Parameters:\\n{params}')\n"
   ]
  },
  {
   "cell_type": "code",
   "execution_count": 527,
   "id": "48a33990-138e-4016-804f-b05f7c88cb57",
   "metadata": {
    "tags": []
   },
   "outputs": [
    {
     "data": {
      "image/png": "[encoded data removed]",
      "text/plain": [
       "<Figure size 800x550 with 1 Axes>"
      ]
     },
     "metadata": {},
     "output_type": "display_data"
    }
   ],
   "source": [
    "\n",
    "# 5. Probability Distribution Visualization\n",
    "dev = qml.device(\"default.qubit\", wires=N)\n",
    "@qml.qnode(dev)\n",
    "def probability_circuit(gamma, alpha):\n",
    "    \"\"\"QNode for the probability distribution.\"\"\"\n",
    "    for w in wires:\n",
    "        qml.Hadamard(wires=w)\n",
    "    qml.layer(qaoa_layer, depth, gamma, alpha)\n",
    "    return qml.probs(wires=wires)\n",
    "\n",
    "gamma_vals, alpha_vals = params\n",
    "probs = probability_circuit(gamma_vals, alpha_vals)\n",
    "plt.bar(range(2 ** N), probs)\n",
    "plt.show()"
   ]
  },
  {
   "cell_type": "code",
   "execution_count": 528,
   "id": "5c976726-9002-409f-8ba3-d20a63ff3649",
   "metadata": {
    "tags": []
   },
   "outputs": [
    {
     "data": {
      "text/plain": [
       "'1101101011'"
      ]
     },
     "execution_count": 528,
     "metadata": {},
     "output_type": "execute_result"
    }
   ],
   "source": [
    "\n",
    "# 6. Sampling\n",
    "dev = qml.device(\"default.qubit\", wires=N, shots=10000)\n",
    "def sampling_circuit(params, **kwargs):\n",
    "    \"\"\"QNode for sampling from the circuit.\"\"\"\n",
    "    for w in wires:\n",
    "        qml.Hadamard(wires=w)\n",
    "    qml.layer(qaoa_layer, depth, params[0], params[1])\n",
    "    return [qml.sample(qml.PauliZ(w)) for w in wires]\n",
    "\n",
    "@qml.qnode(dev)\n",
    "def sample_function(params):\n",
    "    \"\"\"Sample from the optimized QAOA circuit.\"\"\"\n",
    "    return sampling_circuit(params)\n",
    "\n",
    "optimal_params = params.copy()\n",
    "\n",
    "samples_array = np.array(sample_function(optimal_params))\n",
    "samples_transposed = samples_array.T\n",
    "#  Convert -1 to 0 to get the bitstrings\n",
    "bitstrings = np.where(samples_transposed == -1, 0, samples_transposed)\n",
    "\n",
    "# Convert to string for easy counting\n",
    "string_bits = [''.join(map(str, bitstring)) for bitstring in bitstrings]\n",
    "\n",
    "# Count occurrences\n",
    "bitstring_counts = Counter(string_bits)\n",
    "\n",
    "# Get the most common bitstring\n",
    "optimal_bitstring = bitstring_counts.most_common(1)[0][0]\n",
    "optimal_bitstring\n"
   ]
  },
  {
   "cell_type": "code",
   "execution_count": 529,
   "id": "555bd2e8-6d28-40c0-a7fe-6e9c5a4af5a6",
   "metadata": {
    "tags": []
   },
   "outputs": [
    {
     "name": "stdout",
     "output_type": "stream",
     "text": [
      " Expected Returns: \n",
      "\n",
      " [0.916 0.551 0.019 0.106 0.16  0.041 0.618 0.269 0.271 0.734] \n",
      "\n"
     ]
    }
   ],
   "source": [
    "print(\" Expected Returns: \\n\\n\", np.round(r,3),\"\\n\")\n"
   ]
  },
  {
   "cell_type": "code",
   "execution_count": 530,
   "id": "f00a71bf-000f-44fd-bb0d-46689f7339e8",
   "metadata": {
    "tags": []
   },
   "outputs": [],
   "source": [
    "def calculate_sharpe_ratio(optimal_bitstring, r, cov_matrix, risk_free_rate=0.01):\n",
    "    \"\"\"\n",
    "    Calculates the Sharpe ratio for a given portfolio defined by the optimal_bitstring.\n",
    "    \n",
    "    Args:\n",
    "        optimal_bitstring (str): The string representation of the portfolio (1 for included stocks, 0 for excluded).\n",
    "        r (list): Expected returns for individual stocks.\n",
    "        cov_matrix (np.ndarray): Covariance matrix for the stocks.\n",
    "        risk_free_rate (float, optional): The risk-free rate. Defaults to 0.01.\n",
    "\n",
    "    Returns:\n",
    "        float: The calculated Sharpe ratio.\n",
    "    \"\"\"\n",
    "    # Convert bitstring to a list of integers\n",
    "    allocation = [int(bit) for bit in optimal_bitstring]\n",
    "    \n",
    "    # Expected portfolio return\n",
    "    expected_return = np.dot(allocation, r)\n",
    "    \n",
    "    # Portfolio variance and standard deviation\n",
    "    portfolio_variance = np.dot(allocation, np.dot(cov_matrix, allocation))\n",
    "    portfolio_std_dev = np.sqrt(portfolio_variance)\n",
    "    \n",
    "    # Sharpe ratio\n",
    "    sharpe_ratio = (expected_return - risk_free_rate) / portfolio_std_dev\n",
    "    \n",
    "    return sharpe_ratio, expected_return/sum(allocation)\n",
    "\n",
    "# Example Usage\n",
    "def calculate_all_sharpe_ratios(bitstrings, r, cov_matrix):\n",
    "    return [calculate_sharpe_ratio(bitstring, r, cov_matrix)[0] for bitstring in bitstrings]\n",
    "\n",
    "# Calculate Sharpe ratios for all bitstrings\n",
    "def calculate_all_ers(bitstrings, r, cov_matrix):\n",
    "    return [calculate_sharpe_ratio(bitstring, r, cov_matrix)[1] for bitstring in bitstrings]\n"
   ]
  },
  {
   "cell_type": "code",
   "execution_count": 531,
   "id": "ac5d3289-7031-4bd5-87ee-dee2ec53e60d",
   "metadata": {
    "tags": []
   },
   "outputs": [
    {
     "name": "stdout",
     "output_type": "stream",
     "text": [
      "Sharpe Ratio: 3.0080\n",
      "Expected Return: 0.4794\n"
     ]
    }
   ],
   "source": [
    "sharpe_ratio, expected_return = calculate_sharpe_ratio(optimal_bitstring, portfolio_data['r'], portfolio_data['cov_matrix'])\n",
    "print(f\"Sharpe Ratio: {sharpe_ratio:.4f}\")\n",
    "print(f\"Expected Return: {expected_return:.4f}\")"
   ]
  },
  {
   "cell_type": "code",
   "execution_count": 532,
   "id": "6c642607-ecfb-4faa-a7f8-7321271be8ff",
   "metadata": {
    "tags": []
   },
   "outputs": [],
   "source": [
    "all_sharpe_ratios = calculate_all_sharpe_ratios(bitstrings, portfolio_data['r'], portfolio_data['cov_matrix'])\n",
    "all_sharpe_ers = calculate_all_ers(bitstrings, portfolio_data['r'], portfolio_data['cov_matrix'])\n"
   ]
  },
  {
   "cell_type": "code",
   "execution_count": 533,
   "id": "fea453ab-df6c-4bb0-8ab6-d695ccdeb372",
   "metadata": {
    "tags": []
   },
   "outputs": [
    {
     "ename": "AttributeError",
     "evalue": "'list' object has no attribute 'mean'",
     "output_type": "error",
     "traceback": [
      "\u001b[0;31m---------------------------------------------------------------------------\u001b[0m",
      "\u001b[0;31mAttributeError\u001b[0m                            Traceback (most recent call last)",
      "Cell \u001b[0;32mIn[533], line 1\u001b[0m\n\u001b[0;32m----> 1\u001b[0m \u001b[43mall_sharpe_ratios\u001b[49m\u001b[38;5;241;43m.\u001b[39;49m\u001b[43mmean\u001b[49m(),all_sharpe_ers\u001b[38;5;241m.\u001b[39mmean()\n",
      "\u001b[0;31mAttributeError\u001b[0m: 'list' object has no attribute 'mean'"
     ]
    }
   ],
   "source": [
    "all_sharpe_ratios.mean(),all_sharpe_ers.mean()"
   ]
  },
  {
   "cell_type": "code",
   "execution_count": null,
   "id": "45755941-9154-41fb-9c9b-5e72280a12da",
   "metadata": {
    "tags": []
   },
   "outputs": [],
   "source": [
    "all_sharpe_ratios[137],all_sharpe_ers[137]"
   ]
  },
  {
   "cell_type": "code",
   "execution_count": 508,
   "id": "a26a1ff4-f105-4eba-a656-4f49293f40e2",
   "metadata": {
    "tags": []
   },
   "outputs": [
    {
     "name": "stdout",
     "output_type": "stream",
     "text": [
      "Position: 293, Sharpe Ratio: 3.6038\n",
      "Position: 712, Sharpe Ratio: 3.6038\n",
      "Position: 6062, Sharpe Ratio: 3.6038\n",
      "Position: 7478, Sharpe Ratio: 3.6038\n",
      "Position: 729, Sharpe Ratio: 3.5901\n",
      "Position: 2118, Sharpe Ratio: 3.5901\n",
      "Position: 5082, Sharpe Ratio: 3.5901\n",
      "Position: 4214, Sharpe Ratio: 3.5632\n",
      "Position: 5271, Sharpe Ratio: 3.5632\n",
      "Position: 7028, Sharpe Ratio: 3.5632\n"
     ]
    }
   ],
   "source": [
    "# Sort the Sharpe ratios while retaining their original index\n",
    "sorted_indices = sorted(enumerate(all_sharpe_ratios), key=lambda x: x[1], reverse=True)\n",
    "\n",
    "# Extract the top 10\n",
    "top_10 = sorted_indices[:10]\n",
    "\n",
    "# Display top 10 Sharpe ratios and their positions\n",
    "for idx, value in top_10:\n",
    "    print(f\"Position: {idx}, Sharpe Ratio: {value:.4f}\")\n"
   ]
  },
  {
   "cell_type": "code",
   "execution_count": 509,
   "id": "2f725975-1070-4141-b67f-f26138d52509",
   "metadata": {
    "tags": []
   },
   "outputs": [
    {
     "name": "stdout",
     "output_type": "stream",
     "text": [
      "Position: 2591, Expected Return: 0.9069\n",
      "Position: 946, Expected Return: 0.8489\n",
      "Position: 3674, Expected Return: 0.8489\n",
      "Position: 6136, Expected Return: 0.8489\n",
      "Position: 9823, Expected Return: 0.8489\n",
      "Position: 2343, Expected Return: 0.8197\n",
      "Position: 8003, Expected Return: 0.8197\n",
      "Position: 9360, Expected Return: 0.8197\n",
      "Position: 193, Expected Return: 0.8027\n",
      "Position: 359, Expected Return: 0.8027\n"
     ]
    }
   ],
   "source": [
    "# Sort the Sharpe ratios while retaining their original index\n",
    "sorted_indices = sorted(enumerate(all_sharpe_ers), key=lambda x: x[1], reverse=True)\n",
    "\n",
    "# Extract the top 10\n",
    "top_10 = sorted_indices[:10]\n",
    "\n",
    "# Display top 10 Sharpe ratios and their positions\n",
    "for idx, value in top_10:\n",
    "    print(f\"Position: {idx}, Expected Return: {value:.4f}\")\n"
   ]
  },
  {
   "cell_type": "code",
   "execution_count": 510,
   "id": "4326c00e-1366-47ba-ae17-11e8265d14a4",
   "metadata": {
    "tags": []
   },
   "outputs": [
    {
     "data": {
      "image/png": "[encoded data removed]",
      "text/plain": [
       "<Figure size 1200x600 with 1 Axes>"
      ]
     },
     "metadata": {},
     "output_type": "display_data"
    }
   ],
   "source": [
    "# Plot the results\n",
    "plt.figure(figsize=(12, 6))\n",
    "plt.plot(all_sharpe_ratios)\n",
    "plt.xlabel('Bitstring Index')\n",
    "plt.ylabel('Sharpe Ratio')\n",
    "plt.title('Sharpe Ratios for Different Bitstrings')\n",
    "plt.grid(True)\n",
    "plt.show()"
   ]
  },
  {
   "cell_type": "code",
   "execution_count": null,
   "id": "4688bab5-56ad-4bc4-96a3-3759298ec4f6",
   "metadata": {},
   "outputs": [],
   "source": []
  }
 ],
 "metadata": {
  "kernelspec": {
   "display_name": "conda_braket",
   "language": "python",
   "name": "conda_braket"
  },
  "language_info": {
   "codemirror_mode": {
    "name": "ipython",
    "version": 3
   },
   "file_extension": ".py",
   "mimetype": "text/x-python",
   "name": "python",
   "nbconvert_exporter": "python",
   "pygments_lexer": "ipython3",
   "version": "3.10.12"
  }
 },
 "nbformat": 4,
 "nbformat_minor": 5
}
